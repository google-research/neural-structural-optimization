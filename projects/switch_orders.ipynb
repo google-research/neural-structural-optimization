{
 "cells": [
  {
   "cell_type": "code",
   "execution_count": 1,
   "id": "c308ebbd",
   "metadata": {},
   "outputs": [
    {
     "name": "stdout",
     "output_type": "stream",
     "text": [
      "/home/shushu/install/anaconda3/envs/neural-struct/bin/python\n"
     ]
    }
   ],
   "source": [
    "import sys\n",
    "print(sys.executable)\n",
    "neural_struct_dir = '/mnt/g/PythonWorkspace/neural-structural-optimization/'\n",
    "sys.path.insert(0, neural_struct_dir)\n",
    "# hardcoded\n",
    "cur_file_dir = '/mnt/g/PythonWorkspace/neural-structural-optimization/projects'\n",
    "sys.path.insert(0, cur_file_dir)"
   ]
  },
  {
   "cell_type": "code",
   "execution_count": 2,
   "id": "56577ed9",
   "metadata": {},
   "outputs": [
    {
     "name": "stderr",
     "output_type": "stream",
     "text": [
      "2021-08-19 17:39:25.621132: W tensorflow/stream_executor/platform/default/dso_loader.cc:64] Could not load dynamic library 'libcudart.so.11.0'; dlerror: libcudart.so.11.0: cannot open shared object file: No such file or directory\n",
      "2021-08-19 17:39:25.621177: I tensorflow/stream_executor/cuda/cudart_stub.cc:29] Ignore above cudart dlerror if you do not have a GPU set up on your machine.\n"
     ]
    }
   ],
   "source": [
    "import matplotlib.pyplot as plt\n",
    "import xarray\n",
    "import tensorflow as tf\n",
    "import time\n",
    "import os\n",
    "import pandas as pd\n",
    "\n",
    "from neural_structural_optimization import problems\n",
    "from neural_structural_optimization import topo_api\n",
    "from neural_structural_optimization import train\n",
    "from neural_structural_optimization.models import *\n",
    "\n",
    "%matplotlib inline\n",
    "%load_ext autoreload\n",
    "%autoreload 2"
   ]
  },
  {
   "cell_type": "code",
   "execution_count": 6,
   "id": "7da8fc66",
   "metadata": {},
   "outputs": [],
   "source": [
    "problem_mbb = problems.mbb_beam(width=64, height=32, density=0.5)\n",
    "args_mbb = topo_api.specified_task(problem_mbb)"
   ]
  },
  {
   "cell_type": "markdown",
   "id": "e70b807e",
   "metadata": {},
   "source": [
    "## activation->normalization->conv"
   ]
  },
  {
   "cell_type": "code",
   "execution_count": 46,
   "id": "4740642b",
   "metadata": {},
   "outputs": [],
   "source": [
    "def FlatConv3(inputs, filters, activation=layers.Activation(tf.nn.relu)):\n",
    "    he_normal = tf.keras.initializers.HeNormal()\n",
    "    net = layers.Conv2D(filters, 3, padding='same', kernel_initializer=he_normal)(inputs)\n",
    "    return net\n",
    "\n",
    "def UpConv4(inputs, filters, activation=layers.Activation(tf.nn.relu)):\n",
    "    he_normal = tf.keras.initializers.HeNormal()\n",
    "    net = layers.Conv2DTranspose(filters, 4, strides=(2,2),padding='same', kernel_initializer=he_normal)(inputs)\n",
    "    return net"
   ]
  },
  {
   "cell_type": "code",
   "execution_count": 47,
   "id": "29767407",
   "metadata": {},
   "outputs": [],
   "source": [
    "class CNNSketch3(Model):\n",
    "\n",
    "  def __init__(\n",
    "      self,\n",
    "      seed=0,\n",
    "      args=None,\n",
    "      latent_size = 128,\n",
    "      dense_channels = 32,\n",
    "      latent_scale=1.0,\n",
    "      dense_init_scale=1.0,\n",
    "      activation = tf.nn.tanh,\n",
    "      normalization=global_normalization,\n",
    "      volume_contraint = True,\n",
    "      cone_filter = True\n",
    "  ):\n",
    "    super().__init__(seed, args, volume_contraint, cone_filter)\n",
    "\n",
    "    activation = layers.Activation(activation)\n",
    "\n",
    "    h = self.env.args['nely'] // 2\n",
    "    w = self.env.args['nelx'] // 2\n",
    "    \n",
    "    net = inputs = layers.Input((latent_size,), batch_size=1)\n",
    "    filters = h * w * dense_channels   # 32 * h/2 * w/2\n",
    "    dense_initializer = tf.initializers.orthogonal(\n",
    "        dense_init_scale * np.sqrt(max(filters / latent_size, 1)))\n",
    "    net = layers.Dense(filters, kernel_initializer=dense_initializer)(net)\n",
    "    net = layers.Reshape([h, w, dense_channels])(net)  \n",
    "    \n",
    "    net = activation(net)\n",
    "    net = normalization(net)\n",
    "    net = FlatConv3(net, 32, activation)  # 32 * h/2 * w/2\n",
    "\n",
    "    net = activation(net)\n",
    "    net = normalization(net)\n",
    "    net = UpConv4(net, 16, activation)  # 16 * h * w\n",
    "    \n",
    "    net = activation(net)\n",
    "    net = normalization(net)\n",
    "    net = FlatConv3(net, 1, activation)  # 1 * h * w\n",
    "    \n",
    "    outputs = tf.squeeze(net, axis=[-1])\n",
    "\n",
    "    self.core_model = tf.keras.Model(inputs=inputs, outputs=outputs)\n",
    "\n",
    "    latent_initializer = tf.initializers.RandomNormal(stddev=latent_scale)\n",
    "    self.z = self.add_weight(\n",
    "        shape=inputs.shape, initializer=latent_initializer, name='z')\n",
    "\n",
    "  def call(self, inputs=None):\n",
    "    return self.core_model(self.z)"
   ]
  },
  {
   "cell_type": "code",
   "execution_count": 48,
   "id": "7facccb7",
   "metadata": {},
   "outputs": [
    {
     "name": "stdout",
     "output_type": "stream",
     "text": [
      "Ellapsed time of training: 26.30s\n"
     ]
    }
   ],
   "source": [
    "cnns3_mbb1 = CNNSketch3(args=args_mbb, volume_contraint=True, cone_filter = True)\n",
    "tic = time.perf_counter()\n",
    "ds_cnns3_mbb1 = train.train_lbfgs(cnns3_mbb1, 100)\n",
    "toc = time.perf_counter()\n",
    "print('Ellapsed time of training: %.2fs' % (toc-tic))"
   ]
  },
  {
   "cell_type": "markdown",
   "id": "5eee87d4",
   "metadata": {},
   "source": [
    "## activation->conv->normalization"
   ]
  },
  {
   "cell_type": "code",
   "execution_count": 49,
   "id": "b6d24416",
   "metadata": {},
   "outputs": [],
   "source": [
    "class CNNSketch3(Model):\n",
    "\n",
    "  def __init__(\n",
    "      self,\n",
    "      seed=0,\n",
    "      args=None,\n",
    "      latent_size = 128,\n",
    "      dense_channels = 32,\n",
    "      latent_scale=1.0,\n",
    "      dense_init_scale=1.0,\n",
    "      activation = tf.nn.tanh,\n",
    "      normalization=global_normalization,\n",
    "      volume_contraint = True,\n",
    "      cone_filter = True\n",
    "  ):\n",
    "    super().__init__(seed, args, volume_contraint, cone_filter)\n",
    "\n",
    "    activation = layers.Activation(activation)\n",
    "\n",
    "    h = self.env.args['nely'] // 2\n",
    "    w = self.env.args['nelx'] // 2\n",
    "    \n",
    "    net = inputs = layers.Input((latent_size,), batch_size=1)\n",
    "    filters = h * w * dense_channels   # 32 * h/2 * w/2\n",
    "    dense_initializer = tf.initializers.orthogonal(\n",
    "        dense_init_scale * np.sqrt(max(filters / latent_size, 1)))\n",
    "    net = layers.Dense(filters, kernel_initializer=dense_initializer)(net)\n",
    "    net = layers.Reshape([h, w, dense_channels])(net)  \n",
    "    \n",
    "    net = activation(net)\n",
    "    net = FlatConv3(net, 32, activation)  # 32 * h/2 * w/2\n",
    "    net = normalization(net)\n",
    "\n",
    "    net = activation(net)\n",
    "    net = UpConv4(net, 16, activation)  # 16 * h * w\n",
    "    net = normalization(net)\n",
    "\n",
    "    net = activation(net)\n",
    "    net = FlatConv3(net, 1, activation)  # 1 * h * w\n",
    "    \n",
    "    outputs = tf.squeeze(net, axis=[-1])\n",
    "\n",
    "    self.core_model = tf.keras.Model(inputs=inputs, outputs=outputs)\n",
    "\n",
    "    latent_initializer = tf.initializers.RandomNormal(stddev=latent_scale)\n",
    "    self.z = self.add_weight(\n",
    "        shape=inputs.shape, initializer=latent_initializer, name='z')\n",
    "\n",
    "  def call(self, inputs=None):\n",
    "    return self.core_model(self.z)"
   ]
  },
  {
   "cell_type": "code",
   "execution_count": 50,
   "id": "7c9282d8",
   "metadata": {},
   "outputs": [
    {
     "name": "stdout",
     "output_type": "stream",
     "text": [
      "Ellapsed time of training: 26.47s\n"
     ]
    }
   ],
   "source": [
    "cnns3_mbb2 = CNNSketch3(args=args_mbb, volume_contraint=True, cone_filter = True)\n",
    "tic = time.perf_counter()\n",
    "ds_cnns3_mbb2 = train.train_lbfgs(cnns3_mbb2, 100)\n",
    "toc = time.perf_counter()\n",
    "print('Ellapsed time of training: %.2fs' % (toc-tic))"
   ]
  },
  {
   "cell_type": "markdown",
   "id": "0fb49fd3",
   "metadata": {},
   "source": [
    "## conv->activation->normalization"
   ]
  },
  {
   "cell_type": "code",
   "execution_count": 51,
   "id": "b6581525",
   "metadata": {},
   "outputs": [],
   "source": [
    "class CNNSketch3(Model):\n",
    "\n",
    "  def __init__(\n",
    "      self,\n",
    "      seed=0,\n",
    "      args=None,\n",
    "      latent_size = 128,\n",
    "      dense_channels = 32,\n",
    "      latent_scale=1.0,\n",
    "      dense_init_scale=1.0,\n",
    "      activation = tf.nn.tanh,\n",
    "      normalization=global_normalization,\n",
    "      volume_contraint = True,\n",
    "      cone_filter = True\n",
    "  ):\n",
    "    super().__init__(seed, args, volume_contraint, cone_filter)\n",
    "\n",
    "    activation = layers.Activation(activation)\n",
    "\n",
    "    h = self.env.args['nely'] // 2\n",
    "    w = self.env.args['nelx'] // 2\n",
    "    \n",
    "    net = inputs = layers.Input((latent_size,), batch_size=1)\n",
    "    filters = h * w * dense_channels   # 32 * h/2 * w/2\n",
    "    dense_initializer = tf.initializers.orthogonal(\n",
    "        dense_init_scale * np.sqrt(max(filters / latent_size, 1)))\n",
    "    net = layers.Dense(filters, kernel_initializer=dense_initializer)(net)\n",
    "    net = layers.Reshape([h, w, dense_channels])(net)  \n",
    "    \n",
    "    net = FlatConv3(net, 32, activation)  # 32 * h/2 * w/2\n",
    "    net = activation(net)\n",
    "    net = normalization(net)\n",
    "\n",
    "    net = UpConv4(net, 16, activation)  # 16 * h * w\n",
    "    net = activation(net)\n",
    "    net = normalization(net)\n",
    "\n",
    "    net = FlatConv3(net, 1, activation)  # 1 * h * w\n",
    "    \n",
    "    outputs = tf.squeeze(net, axis=[-1])\n",
    "\n",
    "    self.core_model = tf.keras.Model(inputs=inputs, outputs=outputs)\n",
    "\n",
    "    latent_initializer = tf.initializers.RandomNormal(stddev=latent_scale)\n",
    "    self.z = self.add_weight(\n",
    "        shape=inputs.shape, initializer=latent_initializer, name='z')\n",
    "\n",
    "  def call(self, inputs=None):\n",
    "    return self.core_model(self.z)"
   ]
  },
  {
   "cell_type": "code",
   "execution_count": 52,
   "id": "00d07967",
   "metadata": {},
   "outputs": [
    {
     "name": "stdout",
     "output_type": "stream",
     "text": [
      "Ellapsed time of training: 28.82s\n"
     ]
    }
   ],
   "source": [
    "cnns3_mbb3 = CNNSketch3(args=args_mbb, volume_contraint=True, cone_filter = True)\n",
    "tic = time.perf_counter()\n",
    "ds_cnns3_mbb3 = train.train_lbfgs(cnns3_mbb3, 100)\n",
    "toc = time.perf_counter()\n",
    "print('Ellapsed time of training: %.2fs' % (toc-tic))"
   ]
  },
  {
   "cell_type": "markdown",
   "id": "01931518",
   "metadata": {},
   "source": [
    "## conv->normalization->activation"
   ]
  },
  {
   "cell_type": "code",
   "execution_count": 57,
   "id": "5a7e50a1",
   "metadata": {},
   "outputs": [],
   "source": [
    "class CNNSketch3(Model):\n",
    "\n",
    "  def __init__(\n",
    "      self,\n",
    "      seed=0,\n",
    "      args=None,\n",
    "      latent_size = 128,\n",
    "      dense_channels = 32,\n",
    "      latent_scale=1.0,\n",
    "      dense_init_scale=1.0,\n",
    "      activation = tf.nn.tanh,\n",
    "      normalization=global_normalization,\n",
    "      volume_contraint = True,\n",
    "      cone_filter = True\n",
    "  ):\n",
    "    super().__init__(seed, args, volume_contraint, cone_filter)\n",
    "\n",
    "    activation = layers.Activation(activation)\n",
    "\n",
    "    h = self.env.args['nely'] // 2\n",
    "    w = self.env.args['nelx'] // 2\n",
    "    \n",
    "    net = inputs = layers.Input((latent_size,), batch_size=1)\n",
    "    filters = h * w * dense_channels   # 32 * h/2 * w/2\n",
    "    dense_initializer = tf.initializers.orthogonal(\n",
    "        dense_init_scale * np.sqrt(max(filters / latent_size, 1)))\n",
    "    net = layers.Dense(filters, kernel_initializer=dense_initializer)(net)\n",
    "    net = layers.Reshape([h, w, dense_channels])(net)  \n",
    "        \n",
    "    net = FlatConv3(net, 32, activation)  # 32 * h/2 * w/2\n",
    "    net = normalization(net)\n",
    "    net = activation(net)\n",
    "\n",
    "    net = UpConv4(net, 16, activation)  # 16 * h * w\n",
    "    net = normalization(net)\n",
    "    net = activation(net)\n",
    "\n",
    "    net = FlatConv3(net, 1, activation)  # 1 * h * w\n",
    "    \n",
    "    outputs = tf.squeeze(net, axis=[-1])\n",
    "\n",
    "    self.core_model = tf.keras.Model(inputs=inputs, outputs=outputs)\n",
    "\n",
    "    latent_initializer = tf.initializers.RandomNormal(stddev=latent_scale)\n",
    "    self.z = self.add_weight(\n",
    "        shape=inputs.shape, initializer=latent_initializer, name='z')\n",
    "\n",
    "  def call(self, inputs=None):\n",
    "    return self.core_model(self.z)"
   ]
  },
  {
   "cell_type": "code",
   "execution_count": 58,
   "id": "1d286e82",
   "metadata": {},
   "outputs": [
    {
     "name": "stdout",
     "output_type": "stream",
     "text": [
      "Ellapsed time of training: 27.19s\n"
     ]
    }
   ],
   "source": [
    "cnns3_mbb4 = CNNSketch3(args=args_mbb, volume_contraint=True, cone_filter = True)\n",
    "tic = time.perf_counter()\n",
    "ds_cnns3_mbb4 = train.train_lbfgs(cnns3_mbb4, 100)\n",
    "toc = time.perf_counter()\n",
    "print('Ellapsed time of training: %.2fs' % (toc-tic))"
   ]
  },
  {
   "cell_type": "code",
   "execution_count": 64,
   "id": "43a98467",
   "metadata": {},
   "outputs": [
    {
     "data": {
      "text/plain": [
       "<matplotlib.image.AxesImage at 0x7ff254695ee0>"
      ]
     },
     "execution_count": 64,
     "metadata": {},
     "output_type": "execute_result"
    },
    {
     "data": {
      "image/png": "[encoded data removed]",
      "text/plain": [
       "<Figure size 1152x864 with 4 Axes>"
      ]
     },
     "metadata": {},
     "output_type": "display_data"
    }
   ],
   "source": [
    "fig, ax = plt.subplots(1, 4, figsize=(16,12),subplot_kw={'xticks': [], 'yticks': []})\n",
    "ax[0].imshow(ds_cnns3_mbb1.design.sel(step=100), cmap='Greys')\n",
    "ax[1].imshow(ds_cnns3_mbb2.design.sel(step=100), cmap='Greys')\n",
    "ax[2].imshow(ds_cnns3_mbb3.design.sel(step=100), cmap='Greys')\n",
    "ax[3].imshow(ds_cnns3_mbb4.design.sel(step=100), cmap='Greys')"
   ]
  },
  {
   "cell_type": "code",
   "execution_count": 63,
   "id": "bca3d3a2",
   "metadata": {},
   "outputs": [
    {
     "data": {
      "text/plain": [
       "Text(0.5, 0, 'Optimization step')"
      ]
     },
     "execution_count": 63,
     "metadata": {},
     "output_type": "execute_result"
    },
    {
     "data": {
      "image/png": "[encoded data removed]",
      "text/plain": [
       "<Figure size 432x288 with 1 Axes>"
      ]
     },
     "metadata": {
      "needs_background": "light"
     },
     "output_type": "display_data"
    }
   ],
   "source": [
    "dims = pd.Index(['A-N-C', 'A-C-N', 'C-A-N', 'C-N-A'], name='model')\n",
    "ds =  xarray.concat([ds_cnns3_mbb1, ds_cnns3_mbb2, ds_cnns3_mbb3, ds_cnns3_mbb4], dim=dims)\n",
    "ds.loss.transpose().to_pandas().cummin().loc[50:100].plot(linewidth=2)\n",
    "plt.ylabel('Compliance (loss)')\n",
    "plt.xlabel('Optimization step')"
   ]
  },
  {
   "cell_type": "code",
   "execution_count": null,
   "id": "83ad6cd4",
   "metadata": {},
   "outputs": [],
   "source": []
  }
 ],
 "metadata": {
  "kernelspec": {
   "display_name": "neural-struct-kernel",
   "language": "python",
   "name": "neural-struct-kernel"
  },
  "language_info": {
   "codemirror_mode": {
    "name": "ipython",
    "version": 3
   },
   "file_extension": ".py",
   "mimetype": "text/x-python",
   "name": "python",
   "nbconvert_exporter": "python",
   "pygments_lexer": "ipython3",
   "version": "3.9.6"
  }
 },
 "nbformat": 4,
 "nbformat_minor": 5
}
