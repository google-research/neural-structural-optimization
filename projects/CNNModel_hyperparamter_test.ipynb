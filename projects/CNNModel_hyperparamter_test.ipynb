{
 "cells": [
  {
   "cell_type": "code",
   "execution_count": 1,
   "id": "0726863a",
   "metadata": {},
   "outputs": [
    {
     "name": "stdout",
     "output_type": "stream",
     "text": [
      "/home/shushu/install/anaconda3/envs/neural-struct/bin/python\n"
     ]
    }
   ],
   "source": [
    "import sys\n",
    "print(sys.executable)\n",
    "neural_struct_dir = '/mnt/g/PythonWorkspace/neural-structural-optimization/'\n",
    "sys.path.insert(0, neural_struct_dir)\n",
    "# hardcoded\n",
    "cur_file_dir = '/mnt/g/PythonWorkspace/neural-structural-optimization/projects'\n",
    "sys.path.insert(0, cur_file_dir)"
   ]
  },
  {
   "cell_type": "code",
   "execution_count": 2,
   "id": "fa52883e",
   "metadata": {},
   "outputs": [
    {
     "name": "stderr",
     "output_type": "stream",
     "text": [
      "2021-08-19 19:03:40.188590: W tensorflow/stream_executor/platform/default/dso_loader.cc:64] Could not load dynamic library 'libcudart.so.11.0'; dlerror: libcudart.so.11.0: cannot open shared object file: No such file or directory\n",
      "2021-08-19 19:03:40.188633: I tensorflow/stream_executor/cuda/cudart_stub.cc:29] Ignore above cudart dlerror if you do not have a GPU set up on your machine.\n"
     ]
    }
   ],
   "source": [
    "import matplotlib.pyplot as plt\n",
    "import xarray\n",
    "import tensorflow as tf\n",
    "import time\n",
    "import os\n",
    "import pandas as pd\n",
    "\n",
    "from neural_structural_optimization import problems\n",
    "from neural_structural_optimization import topo_api\n",
    "from neural_structural_optimization import train\n",
    "from neural_structural_optimization.models import *\n",
    "from cnn_sketch import *\n",
    "\n",
    "%matplotlib inline\n",
    "%load_ext autoreload\n",
    "%autoreload 2"
   ]
  },
  {
   "cell_type": "code",
   "execution_count": 4,
   "id": "122d9e9e",
   "metadata": {},
   "outputs": [],
   "source": [
    "# print(problems.PROBLEMS_BY_NAME.keys())"
   ]
  },
  {
   "cell_type": "markdown",
   "id": "72c866fd",
   "metadata": {},
   "source": [
    "## CNNModel\n",
    "```python\n",
    "def __init__(\n",
    "      self,\n",
    "      seed=0,\n",
    "      args=None,\n",
    "      latent_size=128,  \n",
    "      dense_channels=32,   \n",
    "      resizes=(1, 2, 2, 2, 1),  # the deeper, the better?\n",
    "      conv_filters=(128, 64, 32, 16, 1),  # 1 16 32 ...\n",
    "      offset_scale=10,\n",
    "      kernel_size=(5, 5),\n",
    "      latent_scale=1.0,\n",
    "      dense_init_scale=1.0,\n",
    "      activation=tf.nn.tanh,\n",
    "      conv_initializer=tf.initializers.VarianceScaling,\n",
    "      normalization=global_normalization,\n",
    "      volume_contraint=True,\n",
    "      cone_filter=True\n",
    "  ):\n",
    "```\n",
    "We keep lattent size, number of channels of dense layer, kernel size as default, only test on hyperparameters of resizes and conv_filters."
   ]
  },
  {
   "cell_type": "markdown",
   "id": "c878c6cd",
   "metadata": {},
   "source": [
    "## 3 layer CNN model"
   ]
  },
  {
   "cell_type": "code",
   "execution_count": 3,
   "id": "35c37cfa",
   "metadata": {},
   "outputs": [],
   "source": [
    "problem_mbb = problems.mbb_beam(width=64, height=32, density=0.5)\n",
    "args_mbb = topo_api.specified_task(problem_mbb)\n",
    "# print(args_mbb)"
   ]
  },
  {
   "cell_type": "code",
   "execution_count": 4,
   "id": "4366419a",
   "metadata": {},
   "outputs": [
    {
     "name": "stderr",
     "output_type": "stream",
     "text": [
      "2021-08-19 19:03:43.628451: W tensorflow/stream_executor/platform/default/dso_loader.cc:64] Could not load dynamic library 'libcuda.so.1'; dlerror: libcuda.so.1: cannot open shared object file: No such file or directory\n",
      "2021-08-19 19:03:43.628501: W tensorflow/stream_executor/cuda/cuda_driver.cc:326] failed call to cuInit: UNKNOWN ERROR (303)\n",
      "2021-08-19 19:03:43.628541: I tensorflow/stream_executor/cuda/cuda_diagnostics.cc:156] kernel driver does not appear to be running on this host (LAPTOP-EOPHS13E): /proc/driver/nvidia/version does not exist\n",
      "2021-08-19 19:03:43.628797: I tensorflow/core/platform/cpu_feature_guard.cc:142] This TensorFlow binary is optimized with oneAPI Deep Neural Network Library (oneDNN) to use the following CPU instructions in performance-critical operations:  AVX2 FMA\n",
      "To enable them in other operations, rebuild TensorFlow with the appropriate compiler flags.\n"
     ]
    }
   ],
   "source": [
    "cnn3_mbb = CNNModel(args=args_mbb, resizes=(1,2,1), conv_filters=(32,16,1))"
   ]
  },
  {
   "cell_type": "code",
   "execution_count": 5,
   "id": "7017b899",
   "metadata": {},
   "outputs": [
    {
     "name": "stdout",
     "output_type": "stream",
     "text": [
      "Ellapsed time of training: 29.70s\n"
     ]
    }
   ],
   "source": [
    "tic = time.perf_counter()\n",
    "ds_cnn3_mbb = train.train_lbfgs(cnn3_mbb, 100)\n",
    "toc = time.perf_counter()\n",
    "print('Ellapsed time of training: %.2fs' % (toc-tic))"
   ]
  },
  {
   "cell_type": "code",
   "execution_count": 6,
   "id": "26aaf2e3",
   "metadata": {},
   "outputs": [],
   "source": [
    "# saved_dir = os.path.join(cur_file_dir, 'saved_models')\n",
    "# cnn3_mbb.save_weights(os.path.join(saved_dir, 'cnn3_mbb100'))"
   ]
  },
  {
   "cell_type": "code",
   "execution_count": 7,
   "id": "759f1257",
   "metadata": {},
   "outputs": [
    {
     "name": "stdout",
     "output_type": "stream",
     "text": [
      "Ellapsed time of training: 30.78s\n"
     ]
    }
   ],
   "source": [
    "cnn3_mbb_no_cone = CNNModel(args=args_mbb, resizes=(1,2,1), conv_filters=(32,16,1), cone_filter = False)\n",
    "tic = time.perf_counter()\n",
    "ds_cnn3_mbb_no_cone = train.train_lbfgs(cnn3_mbb_no_cone, 100)\n",
    "toc = time.perf_counter()\n",
    "print('Ellapsed time of training: %.2fs' % (toc-tic))"
   ]
  },
  {
   "cell_type": "code",
   "execution_count": 8,
   "id": "30217a0d",
   "metadata": {},
   "outputs": [
    {
     "name": "stdout",
     "output_type": "stream",
     "text": [
      "<xarray.DataArray 'loss' ()>\n",
      "array(86.0279536)\n",
      "Coordinates:\n",
      "    step     int64 100\n"
     ]
    },
    {
     "data": {
      "image/png": "[encoded data removed]",
      "text/plain": [
       "<Figure size 432x288 with 1 Axes>"
      ]
     },
     "metadata": {
      "needs_background": "light"
     },
     "output_type": "display_data"
    }
   ],
   "source": [
    "ds_cnn3_mbb.loss.transpose().to_pandas().cummin().loc[:200].plot(linewidth=2, label='cone-filter')\n",
    "ds_cnn3_mbb_no_cone.loss.transpose().to_pandas().cummin().loc[:200].plot(linewidth=2, label='no cone-filter')\n",
    "plt.ylabel('Compliance (loss)')\n",
    "plt.xlabel('Optimization step')\n",
    "plt.legend(loc='best')\n",
    "print(ds_cnn3_mbb.loss.sel(step=100))"
   ]
  },
  {
   "cell_type": "code",
   "execution_count": 9,
   "id": "a61bda20",
   "metadata": {},
   "outputs": [
    {
     "data": {
      "text/plain": [
       "<matplotlib.image.AxesImage at 0x7f7bafc536a0>"
      ]
     },
     "execution_count": 9,
     "metadata": {},
     "output_type": "execute_result"
    },
    {
     "data": {
      "image/png": "[encoded data removed]",
      "text/plain": [
       "<Figure size 576x432 with 2 Axes>"
      ]
     },
     "metadata": {},
     "output_type": "display_data"
    }
   ],
   "source": [
    "fig, ax = plt.subplots(1, 2, figsize=(8,6),subplot_kw={'xticks': [], 'yticks': []})\n",
    "ax[0].imshow(ds_cnn3_mbb.design.sel(step=100), cmap='Greys')\n",
    "ax[1].imshow(ds_cnn3_mbb_no_cone.design.sel(step=100), cmap='Greys')"
   ]
  },
  {
   "cell_type": "markdown",
   "id": "c25ba63e",
   "metadata": {},
   "source": [
    "### Compare with CNN sketch"
   ]
  },
  {
   "cell_type": "code",
   "execution_count": 10,
   "id": "fc04ef92",
   "metadata": {},
   "outputs": [],
   "source": [
    "class CNNSketch3(Model):\n",
    "\n",
    "  def __init__(\n",
    "      self,\n",
    "      seed=0,\n",
    "      args=None,\n",
    "      latent_size = 128,\n",
    "      dense_channels = 32,\n",
    "      latent_scale=1.0,\n",
    "      dense_init_scale=1.0,\n",
    "      activation = tf.nn.tanh,\n",
    "      volume_contraint = True,\n",
    "      cone_filter = True\n",
    "  ):\n",
    "    super().__init__(seed, args, volume_contraint, cone_filter)\n",
    "\n",
    "    activation = layers.Activation(activation)\n",
    "\n",
    "    h = self.env.args['nely'] // 2\n",
    "    w = self.env.args['nelx'] // 2\n",
    "    \n",
    "    net = inputs = layers.Input((latent_size,), batch_size=1)\n",
    "    filters = h * w * dense_channels   # 32 * h/2 * w/2\n",
    "    dense_initializer = tf.initializers.orthogonal(\n",
    "        dense_init_scale * np.sqrt(max(filters / latent_size, 1)))\n",
    "    net = layers.Dense(filters, kernel_initializer=dense_initializer)(net)\n",
    "    net = layers.Reshape([h, w, dense_channels])(net)  \n",
    "    \n",
    "    net = FlatConv3(net, 32, activation)  # 32 * h/2 * w/2\n",
    "\n",
    "    net = UpConv4(net, 16, activation)  # 16 * h * w\n",
    "    \n",
    "    net = layers.Conv2D(1, 3, padding='same')(net)  # 1 * h * w\n",
    "    \n",
    "    outputs = tf.squeeze(net, axis=[-1])\n",
    "\n",
    "    self.core_model = tf.keras.Model(inputs=inputs, outputs=outputs)\n",
    "\n",
    "    latent_initializer = tf.initializers.RandomNormal(stddev=latent_scale)\n",
    "    self.z = self.add_weight(\n",
    "        shape=inputs.shape, initializer=latent_initializer, name='z')\n",
    "\n",
    "  def call(self, inputs=None):\n",
    "    return self.core_model(self.z)"
   ]
  },
  {
   "cell_type": "code",
   "execution_count": 11,
   "id": "5aa525d1",
   "metadata": {},
   "outputs": [
    {
     "name": "stdout",
     "output_type": "stream",
     "text": [
      "Ellapsed time of training: 27.75s\n"
     ]
    }
   ],
   "source": [
    "cnns3_mbb = CNNSketch3(args=args_mbb, volume_contraint=True, cone_filter = True)\n",
    "tic = time.perf_counter()\n",
    "ds_cnns3_mbb = train.train_lbfgs(cnns3_mbb, 100)\n",
    "toc = time.perf_counter()\n",
    "print('Ellapsed time of training: %.2fs' % (toc-tic))"
   ]
  },
  {
   "cell_type": "code",
   "execution_count": 56,
   "id": "028d8c77",
   "metadata": {},
   "outputs": [
    {
     "data": {
      "text/plain": [
       "Text(0.5, 0, 'Optimization step')"
      ]
     },
     "execution_count": 56,
     "metadata": {},
     "output_type": "execute_result"
    },
    {
     "data": {
      "image/png": "[encoded data removed]",
      "text/plain": [
       "<Figure size 432x288 with 1 Axes>"
      ]
     },
     "metadata": {
      "needs_background": "light"
     },
     "output_type": "display_data"
    }
   ],
   "source": [
    "dims = pd.Index(['cnn_mbb', 'cnns_model'], name='model')\n",
    "ds =  xarray.concat([ds_cnn3_mbb, ds_cnns3_mbb], dim=dims)\n",
    "ds.loss.transpose().to_pandas().cummin().loc[:200].plot(linewidth=2)\n",
    "plt.ylabel('Compliance (loss)')\n",
    "plt.xlabel('Optimization step')"
   ]
  },
  {
   "cell_type": "code",
   "execution_count": 13,
   "id": "50d30bd0",
   "metadata": {},
   "outputs": [
    {
     "name": "stdout",
     "output_type": "stream",
     "text": [
      "Ellapsed time of training: 27.30s\n"
     ]
    }
   ],
   "source": [
    "cnns3_mbb_no_conefilter = CNNSketch3(args=args_mbb, volume_contraint=True, cone_filter = False)\n",
    "tic = time.perf_counter()\n",
    "ds_cnns3_mbb_no_conefilter = train.train_lbfgs(cnns3_mbb_no_conefilter, 100)\n",
    "toc = time.perf_counter()\n",
    "print('Ellapsed time of training: %.2fs' % (toc-tic))"
   ]
  },
  {
   "cell_type": "code",
   "execution_count": 14,
   "id": "9fa4ef82",
   "metadata": {},
   "outputs": [],
   "source": [
    "class CNNSketch3_sigm(Model):\n",
    "\n",
    "  def __init__(\n",
    "      self,\n",
    "      seed=0,\n",
    "      args=None,\n",
    "      latent_size = 128,\n",
    "      dense_channels = 32,\n",
    "      latent_scale=1.0,\n",
    "      dense_init_scale=1.0,\n",
    "      activation = tf.nn.tanh,\n",
    "      volume_contraint = True,\n",
    "      cone_filter = True\n",
    "  ):\n",
    "    super().__init__(seed, args, volume_contraint, cone_filter)\n",
    "\n",
    "    activation = layers.Activation(activation)\n",
    "\n",
    "    h = self.env.args['nely'] // 2\n",
    "    w = self.env.args['nelx'] // 2\n",
    "    \n",
    "    net = inputs = layers.Input((latent_size,), batch_size=1)\n",
    "    filters = h * w * dense_channels   # 32 * h/2 * w/2\n",
    "    dense_initializer = tf.initializers.orthogonal(\n",
    "        dense_init_scale * np.sqrt(max(filters / latent_size, 1)))\n",
    "    net = layers.Dense(filters, kernel_initializer=dense_initializer)(net)\n",
    "    net = layers.Reshape([h, w, dense_channels])(net)  \n",
    "    \n",
    "    net = FlatConv3(net, 32, activation)  # 32 * h/2 * w/2\n",
    "\n",
    "    net = UpConv4(net, 16, activation)  # 16 * h * w\n",
    "    \n",
    "    net = layers.Conv2D(1, 3, padding='same')(net)  # 1 * h * w\n",
    "    net = tf.nn.sigmoid(net) \n",
    "    \n",
    "    outputs = tf.squeeze(net, axis=[-1])\n",
    "\n",
    "    self.core_model = tf.keras.Model(inputs=inputs, outputs=outputs)\n",
    "\n",
    "    latent_initializer = tf.initializers.RandomNormal(stddev=latent_scale)\n",
    "    self.z = self.add_weight(\n",
    "        shape=inputs.shape, initializer=latent_initializer, name='z')\n",
    "\n",
    "  def call(self, inputs=None):\n",
    "    return self.core_model(self.z)"
   ]
  },
  {
   "cell_type": "code",
   "execution_count": 15,
   "id": "7aa81280",
   "metadata": {},
   "outputs": [
    {
     "name": "stdout",
     "output_type": "stream",
     "text": [
      "Ellapsed time of training: 27.68s\n"
     ]
    }
   ],
   "source": [
    "cnns3_sigm_mbb_no_conefilter = CNNSketch3_sigm(args=args_mbb, volume_contraint=True, cone_filter=False)\n",
    "tic = time.perf_counter()\n",
    "ds_cnns3_sigm_mbb_no_conefilter = train.train_lbfgs(cnns3_sigm_mbb_no_conefilter, 100)\n",
    "toc = time.perf_counter()\n",
    "print('Ellapsed time of training: %.2fs' % (toc-tic))"
   ]
  },
  {
   "cell_type": "code",
   "execution_count": 16,
   "id": "1fcae8e5",
   "metadata": {},
   "outputs": [
    {
     "name": "stdout",
     "output_type": "stream",
     "text": [
      "Ellapsed time of training: 26.57s\n"
     ]
    }
   ],
   "source": [
    "cnns3_sigm_mbb = CNNSketch3_sigm(args=args_mbb, volume_contraint=True, cone_filter=True)\n",
    "tic = time.perf_counter()\n",
    "ds_cnns3_sigm_mbb = train.train_lbfgs(cnns3_sigm_mbb, 100)\n",
    "toc = time.perf_counter()\n",
    "print('Ellapsed time of training: %.2fs' % (toc-tic))"
   ]
  },
  {
   "cell_type": "markdown",
   "id": "2edefe86",
   "metadata": {},
   "source": [
    "We don't need a sigmoid function or any other activation function as the last layer. This is due to the fact that the constraint filter afterwards can also map the logits to [0,1]."
   ]
  },
  {
   "cell_type": "code",
   "execution_count": 18,
   "id": "4c448109",
   "metadata": {},
   "outputs": [
    {
     "data": {
      "text/plain": [
       "Text(0, 0.5, 'without sigmoid')"
      ]
     },
     "execution_count": 18,
     "metadata": {},
     "output_type": "execute_result"
    },
    {
     "data": {
      "image/png": "[encoded data removed]",
      "text/plain": [
       "<Figure size 1152x432 with 4 Axes>"
      ]
     },
     "metadata": {},
     "output_type": "display_data"
    }
   ],
   "source": [
    "fig, ax = plt.subplots(2, 2, figsize=(16,6),subplot_kw={'xticks': [], 'yticks': []})\n",
    "ax[0,0].imshow(ds_cnns3_sigm_mbb.design.sel(step=100), cmap='Greys')\n",
    "ax[0,1].imshow(ds_cnns3_sigm_mbb_no_conefilter.design.sel(step=100), cmap='Greys')\n",
    "ax[0,0].set_ylabel('sigmoid')\n",
    "ax[0,0].set_title('vol=True cone=True step=100')\n",
    "ax[0,1].set_title('vol=True cone=False step=100')\n",
    "# ax[0,3].set_title('False False 20')\n",
    "ax[1,0].imshow(ds_cnns3_mbb.design.sel(step=100), cmap='Greys')\n",
    "ax[1,1].imshow(ds_cnns3_mbb_no_conefilter.design.sel(step=100), cmap='Greys')\n",
    "ax[1,0].set_ylabel('without sigmoid')"
   ]
  },
  {
   "cell_type": "markdown",
   "id": "7f341de4",
   "metadata": {},
   "source": [
    "## 4 CNN layer"
   ]
  },
  {
   "cell_type": "code",
   "execution_count": 19,
   "id": "c09d1070",
   "metadata": {},
   "outputs": [
    {
     "name": "stdout",
     "output_type": "stream",
     "text": [
      "Ellapsed time of training: 14.91s\n"
     ]
    }
   ],
   "source": [
    "cnn4_mbb = CNNModel(args=args_mbb, resizes=(1,2, 2, 1), conv_filters=(64, 32,16,1))\n",
    "tic = time.perf_counter()\n",
    "ds_cnn4_mbb = train.train_lbfgs(cnn4_mbb, 100)\n",
    "toc = time.perf_counter()\n",
    "print('Ellapsed time of training: %.2fs' % (toc-tic))"
   ]
  },
  {
   "cell_type": "code",
   "execution_count": 20,
   "id": "0a6314a0",
   "metadata": {},
   "outputs": [
    {
     "data": {
      "text/html": [
       "<div><svg style=\"position: absolute; width: 0; height: 0; overflow: hidden\">\n",
       "<defs>\n",
       "<symbol id=\"icon-database\" viewBox=\"0 0 32 32\">\n",
       "<path d=\"M16 0c-8.837 0-16 2.239-16 5v4c0 2.761 7.163 5 16 5s16-2.239 16-5v-4c0-2.761-7.163-5-16-5z\"></path>\n",
       "<path d=\"M16 17c-8.837 0-16-2.239-16-5v6c0 2.761 7.163 5 16 5s16-2.239 16-5v-6c0 2.761-7.163 5-16 5z\"></path>\n",
       "<path d=\"M16 26c-8.837 0-16-2.239-16-5v6c0 2.761 7.163 5 16 5s16-2.239 16-5v-6c0 2.761-7.163 5-16 5z\"></path>\n",
       "</symbol>\n",
       "<symbol id=\"icon-file-text2\" viewBox=\"0 0 32 32\">\n",
       "<path d=\"M28.681 7.159c-0.694-0.947-1.662-2.053-2.724-3.116s-2.169-2.030-3.116-2.724c-1.612-1.182-2.393-1.319-2.841-1.319h-15.5c-1.378 0-2.5 1.121-2.5 2.5v27c0 1.378 1.122 2.5 2.5 2.5h23c1.378 0 2.5-1.122 2.5-2.5v-19.5c0-0.448-0.137-1.23-1.319-2.841zM24.543 5.457c0.959 0.959 1.712 1.825 2.268 2.543h-4.811v-4.811c0.718 0.556 1.584 1.309 2.543 2.268zM28 29.5c0 0.271-0.229 0.5-0.5 0.5h-23c-0.271 0-0.5-0.229-0.5-0.5v-27c0-0.271 0.229-0.5 0.5-0.5 0 0 15.499-0 15.5 0v7c0 0.552 0.448 1 1 1h7v19.5z\"></path>\n",
       "<path d=\"M23 26h-14c-0.552 0-1-0.448-1-1s0.448-1 1-1h14c0.552 0 1 0.448 1 1s-0.448 1-1 1z\"></path>\n",
       "<path d=\"M23 22h-14c-0.552 0-1-0.448-1-1s0.448-1 1-1h14c0.552 0 1 0.448 1 1s-0.448 1-1 1z\"></path>\n",
       "<path d=\"M23 18h-14c-0.552 0-1-0.448-1-1s0.448-1 1-1h14c0.552 0 1 0.448 1 1s-0.448 1-1 1z\"></path>\n",
       "</symbol>\n",
       "</defs>\n",
       "</svg>\n",
       "<style>/* CSS stylesheet for displaying xarray objects in jupyterlab.\n",
       " *\n",
       " */\n",
       "\n",
       ":root {\n",
       "  --xr-font-color0: var(--jp-content-font-color0, rgba(0, 0, 0, 1));\n",
       "  --xr-font-color2: var(--jp-content-font-color2, rgba(0, 0, 0, 0.54));\n",
       "  --xr-font-color3: var(--jp-content-font-color3, rgba(0, 0, 0, 0.38));\n",
       "  --xr-border-color: var(--jp-border-color2, #e0e0e0);\n",
       "  --xr-disabled-color: var(--jp-layout-color3, #bdbdbd);\n",
       "  --xr-background-color: var(--jp-layout-color0, white);\n",
       "  --xr-background-color-row-even: var(--jp-layout-color1, white);\n",
       "  --xr-background-color-row-odd: var(--jp-layout-color2, #eeeeee);\n",
       "}\n",
       "\n",
       "html[theme=dark],\n",
       "body.vscode-dark {\n",
       "  --xr-font-color0: rgba(255, 255, 255, 1);\n",
       "  --xr-font-color2: rgba(255, 255, 255, 0.54);\n",
       "  --xr-font-color3: rgba(255, 255, 255, 0.38);\n",
       "  --xr-border-color: #1F1F1F;\n",
       "  --xr-disabled-color: #515151;\n",
       "  --xr-background-color: #111111;\n",
       "  --xr-background-color-row-even: #111111;\n",
       "  --xr-background-color-row-odd: #313131;\n",
       "}\n",
       "\n",
       ".xr-wrap {\n",
       "  display: block;\n",
       "  min-width: 300px;\n",
       "  max-width: 700px;\n",
       "}\n",
       "\n",
       ".xr-text-repr-fallback {\n",
       "  /* fallback to plain text repr when CSS is not injected (untrusted notebook) */\n",
       "  display: none;\n",
       "}\n",
       "\n",
       ".xr-header {\n",
       "  padding-top: 6px;\n",
       "  padding-bottom: 6px;\n",
       "  margin-bottom: 4px;\n",
       "  border-bottom: solid 1px var(--xr-border-color);\n",
       "}\n",
       "\n",
       ".xr-header > div,\n",
       ".xr-header > ul {\n",
       "  display: inline;\n",
       "  margin-top: 0;\n",
       "  margin-bottom: 0;\n",
       "}\n",
       "\n",
       ".xr-obj-type,\n",
       ".xr-array-name {\n",
       "  margin-left: 2px;\n",
       "  margin-right: 10px;\n",
       "}\n",
       "\n",
       ".xr-obj-type {\n",
       "  color: var(--xr-font-color2);\n",
       "}\n",
       "\n",
       ".xr-sections {\n",
       "  padding-left: 0 !important;\n",
       "  display: grid;\n",
       "  grid-template-columns: 150px auto auto 1fr 20px 20px;\n",
       "}\n",
       "\n",
       ".xr-section-item {\n",
       "  display: contents;\n",
       "}\n",
       "\n",
       ".xr-section-item input {\n",
       "  display: none;\n",
       "}\n",
       "\n",
       ".xr-section-item input + label {\n",
       "  color: var(--xr-disabled-color);\n",
       "}\n",
       "\n",
       ".xr-section-item input:enabled + label {\n",
       "  cursor: pointer;\n",
       "  color: var(--xr-font-color2);\n",
       "}\n",
       "\n",
       ".xr-section-item input:enabled + label:hover {\n",
       "  color: var(--xr-font-color0);\n",
       "}\n",
       "\n",
       ".xr-section-summary {\n",
       "  grid-column: 1;\n",
       "  color: var(--xr-font-color2);\n",
       "  font-weight: 500;\n",
       "}\n",
       "\n",
       ".xr-section-summary > span {\n",
       "  display: inline-block;\n",
       "  padding-left: 0.5em;\n",
       "}\n",
       "\n",
       ".xr-section-summary-in:disabled + label {\n",
       "  color: var(--xr-font-color2);\n",
       "}\n",
       "\n",
       ".xr-section-summary-in + label:before {\n",
       "  display: inline-block;\n",
       "  content: '►';\n",
       "  font-size: 11px;\n",
       "  width: 15px;\n",
       "  text-align: center;\n",
       "}\n",
       "\n",
       ".xr-section-summary-in:disabled + label:before {\n",
       "  color: var(--xr-disabled-color);\n",
       "}\n",
       "\n",
       ".xr-section-summary-in:checked + label:before {\n",
       "  content: '▼';\n",
       "}\n",
       "\n",
       ".xr-section-summary-in:checked + label > span {\n",
       "  display: none;\n",
       "}\n",
       "\n",
       ".xr-section-summary,\n",
       ".xr-section-inline-details {\n",
       "  padding-top: 4px;\n",
       "  padding-bottom: 4px;\n",
       "}\n",
       "\n",
       ".xr-section-inline-details {\n",
       "  grid-column: 2 / -1;\n",
       "}\n",
       "\n",
       ".xr-section-details {\n",
       "  display: none;\n",
       "  grid-column: 1 / -1;\n",
       "  margin-bottom: 5px;\n",
       "}\n",
       "\n",
       ".xr-section-summary-in:checked ~ .xr-section-details {\n",
       "  display: contents;\n",
       "}\n",
       "\n",
       ".xr-array-wrap {\n",
       "  grid-column: 1 / -1;\n",
       "  display: grid;\n",
       "  grid-template-columns: 20px auto;\n",
       "}\n",
       "\n",
       ".xr-array-wrap > label {\n",
       "  grid-column: 1;\n",
       "  vertical-align: top;\n",
       "}\n",
       "\n",
       ".xr-preview {\n",
       "  color: var(--xr-font-color3);\n",
       "}\n",
       "\n",
       ".xr-array-preview,\n",
       ".xr-array-data {\n",
       "  padding: 0 5px !important;\n",
       "  grid-column: 2;\n",
       "}\n",
       "\n",
       ".xr-array-data,\n",
       ".xr-array-in:checked ~ .xr-array-preview {\n",
       "  display: none;\n",
       "}\n",
       "\n",
       ".xr-array-in:checked ~ .xr-array-data,\n",
       ".xr-array-preview {\n",
       "  display: inline-block;\n",
       "}\n",
       "\n",
       ".xr-dim-list {\n",
       "  display: inline-block !important;\n",
       "  list-style: none;\n",
       "  padding: 0 !important;\n",
       "  margin: 0;\n",
       "}\n",
       "\n",
       ".xr-dim-list li {\n",
       "  display: inline-block;\n",
       "  padding: 0;\n",
       "  margin: 0;\n",
       "}\n",
       "\n",
       ".xr-dim-list:before {\n",
       "  content: '(';\n",
       "}\n",
       "\n",
       ".xr-dim-list:after {\n",
       "  content: ')';\n",
       "}\n",
       "\n",
       ".xr-dim-list li:not(:last-child):after {\n",
       "  content: ',';\n",
       "  padding-right: 5px;\n",
       "}\n",
       "\n",
       ".xr-has-index {\n",
       "  font-weight: bold;\n",
       "}\n",
       "\n",
       ".xr-var-list,\n",
       ".xr-var-item {\n",
       "  display: contents;\n",
       "}\n",
       "\n",
       ".xr-var-item > div,\n",
       ".xr-var-item label,\n",
       ".xr-var-item > .xr-var-name span {\n",
       "  background-color: var(--xr-background-color-row-even);\n",
       "  margin-bottom: 0;\n",
       "}\n",
       "\n",
       ".xr-var-item > .xr-var-name:hover span {\n",
       "  padding-right: 5px;\n",
       "}\n",
       "\n",
       ".xr-var-list > li:nth-child(odd) > div,\n",
       ".xr-var-list > li:nth-child(odd) > label,\n",
       ".xr-var-list > li:nth-child(odd) > .xr-var-name span {\n",
       "  background-color: var(--xr-background-color-row-odd);\n",
       "}\n",
       "\n",
       ".xr-var-name {\n",
       "  grid-column: 1;\n",
       "}\n",
       "\n",
       ".xr-var-dims {\n",
       "  grid-column: 2;\n",
       "}\n",
       "\n",
       ".xr-var-dtype {\n",
       "  grid-column: 3;\n",
       "  text-align: right;\n",
       "  color: var(--xr-font-color2);\n",
       "}\n",
       "\n",
       ".xr-var-preview {\n",
       "  grid-column: 4;\n",
       "}\n",
       "\n",
       ".xr-var-name,\n",
       ".xr-var-dims,\n",
       ".xr-var-dtype,\n",
       ".xr-preview,\n",
       ".xr-attrs dt {\n",
       "  white-space: nowrap;\n",
       "  overflow: hidden;\n",
       "  text-overflow: ellipsis;\n",
       "  padding-right: 10px;\n",
       "}\n",
       "\n",
       ".xr-var-name:hover,\n",
       ".xr-var-dims:hover,\n",
       ".xr-var-dtype:hover,\n",
       ".xr-attrs dt:hover {\n",
       "  overflow: visible;\n",
       "  width: auto;\n",
       "  z-index: 1;\n",
       "}\n",
       "\n",
       ".xr-var-attrs,\n",
       ".xr-var-data {\n",
       "  display: none;\n",
       "  background-color: var(--xr-background-color) !important;\n",
       "  padding-bottom: 5px !important;\n",
       "}\n",
       "\n",
       ".xr-var-attrs-in:checked ~ .xr-var-attrs,\n",
       ".xr-var-data-in:checked ~ .xr-var-data {\n",
       "  display: block;\n",
       "}\n",
       "\n",
       ".xr-var-data > table {\n",
       "  float: right;\n",
       "}\n",
       "\n",
       ".xr-var-name span,\n",
       ".xr-var-data,\n",
       ".xr-attrs {\n",
       "  padding-left: 25px !important;\n",
       "}\n",
       "\n",
       ".xr-attrs,\n",
       ".xr-var-attrs,\n",
       ".xr-var-data {\n",
       "  grid-column: 1 / -1;\n",
       "}\n",
       "\n",
       "dl.xr-attrs {\n",
       "  padding: 0;\n",
       "  margin: 0;\n",
       "  display: grid;\n",
       "  grid-template-columns: 125px auto;\n",
       "}\n",
       "\n",
       ".xr-attrs dt,\n",
       ".xr-attrs dd {\n",
       "  padding: 0;\n",
       "  margin: 0;\n",
       "  float: left;\n",
       "  padding-right: 10px;\n",
       "  width: auto;\n",
       "}\n",
       "\n",
       ".xr-attrs dt {\n",
       "  font-weight: normal;\n",
       "  grid-column: 1;\n",
       "}\n",
       "\n",
       ".xr-attrs dt:hover span {\n",
       "  display: inline-block;\n",
       "  background: var(--xr-background-color);\n",
       "  padding-right: 10px;\n",
       "}\n",
       "\n",
       ".xr-attrs dd {\n",
       "  grid-column: 2;\n",
       "  white-space: pre-wrap;\n",
       "  word-break: break-all;\n",
       "}\n",
       "\n",
       ".xr-icon-database,\n",
       ".xr-icon-file-text2 {\n",
       "  display: inline-block;\n",
       "  vertical-align: middle;\n",
       "  width: 1em;\n",
       "  height: 1.5em !important;\n",
       "  stroke-width: 0;\n",
       "  stroke: currentColor;\n",
       "  fill: currentColor;\n",
       "}\n",
       "</style><pre class='xr-text-repr-fallback'>&lt;xarray.Dataset&gt;\n",
       "Dimensions:  (step: 101, y: 32, x: 64)\n",
       "Coordinates:\n",
       "  * step     (step) int64 0 1 2 3 4 5 6 7 8 9 ... 91 92 93 94 95 96 97 98 99 100\n",
       "Dimensions without coordinates: y, x\n",
       "Data variables:\n",
       "    loss     (step) float64 663.8 588.0 238.4 181.5 ... 91.03 90.93 90.93 90.92\n",
       "    design   (step, y, x) float64 0.5284 0.5023 0.5235 0.5967 ... 1.0 1.0 1.0</pre><div class='xr-wrap' hidden><div class='xr-header'><div class='xr-obj-type'>xarray.Dataset</div></div><ul class='xr-sections'><li class='xr-section-item'><input id='section-df233ad7-9637-4092-b56e-75e466bc147d' class='xr-section-summary-in' type='checkbox' disabled ><label for='section-df233ad7-9637-4092-b56e-75e466bc147d' class='xr-section-summary'  title='Expand/collapse section'>Dimensions:</label><div class='xr-section-inline-details'><ul class='xr-dim-list'><li><span class='xr-has-index'>step</span>: 101</li><li><span>y</span>: 32</li><li><span>x</span>: 64</li></ul></div><div class='xr-section-details'></div></li><li class='xr-section-item'><input id='section-32b83912-deca-4c34-8233-59cabcde6bd0' class='xr-section-summary-in' type='checkbox'  checked><label for='section-32b83912-deca-4c34-8233-59cabcde6bd0' class='xr-section-summary' >Coordinates: <span>(1)</span></label><div class='xr-section-inline-details'></div><div class='xr-section-details'><ul class='xr-var-list'><li class='xr-var-item'><div class='xr-var-name'><span class='xr-has-index'>step</span></div><div class='xr-var-dims'>(step)</div><div class='xr-var-dtype'>int64</div><div class='xr-var-preview xr-preview'>0 1 2 3 4 5 ... 95 96 97 98 99 100</div><input id='attrs-78298818-3a9f-40a1-a769-9498599284bf' class='xr-var-attrs-in' type='checkbox' disabled><label for='attrs-78298818-3a9f-40a1-a769-9498599284bf' title='Show/Hide attributes'><svg class='icon xr-icon-file-text2'><use xlink:href='#icon-file-text2'></use></svg></label><input id='data-08497ed4-bb12-49f6-8760-9e8870781011' class='xr-var-data-in' type='checkbox'><label for='data-08497ed4-bb12-49f6-8760-9e8870781011' title='Show/Hide data repr'><svg class='icon xr-icon-database'><use xlink:href='#icon-database'></use></svg></label><div class='xr-var-attrs'><dl class='xr-attrs'></dl></div><div class='xr-var-data'><pre>array([  0,   1,   2,   3,   4,   5,   6,   7,   8,   9,  10,  11,  12,  13,\n",
       "        14,  15,  16,  17,  18,  19,  20,  21,  22,  23,  24,  25,  26,  27,\n",
       "        28,  29,  30,  31,  32,  33,  34,  35,  36,  37,  38,  39,  40,  41,\n",
       "        42,  43,  44,  45,  46,  47,  48,  49,  50,  51,  52,  53,  54,  55,\n",
       "        56,  57,  58,  59,  60,  61,  62,  63,  64,  65,  66,  67,  68,  69,\n",
       "        70,  71,  72,  73,  74,  75,  76,  77,  78,  79,  80,  81,  82,  83,\n",
       "        84,  85,  86,  87,  88,  89,  90,  91,  92,  93,  94,  95,  96,  97,\n",
       "        98,  99, 100])</pre></div></li></ul></div></li><li class='xr-section-item'><input id='section-dafbeb2d-14d0-4f9b-b6a8-c8dc18d77546' class='xr-section-summary-in' type='checkbox'  checked><label for='section-dafbeb2d-14d0-4f9b-b6a8-c8dc18d77546' class='xr-section-summary' >Data variables: <span>(2)</span></label><div class='xr-section-inline-details'></div><div class='xr-section-details'><ul class='xr-var-list'><li class='xr-var-item'><div class='xr-var-name'><span>loss</span></div><div class='xr-var-dims'>(step)</div><div class='xr-var-dtype'>float64</div><div class='xr-var-preview xr-preview'>663.8 588.0 238.4 ... 90.93 90.92</div><input id='attrs-977a574b-09d5-4cd7-ba4c-360cbc69e4e4' class='xr-var-attrs-in' type='checkbox' disabled><label for='attrs-977a574b-09d5-4cd7-ba4c-360cbc69e4e4' title='Show/Hide attributes'><svg class='icon xr-icon-file-text2'><use xlink:href='#icon-file-text2'></use></svg></label><input id='data-143e7830-a2fe-4d5d-b3ae-15a5f2e913f1' class='xr-var-data-in' type='checkbox'><label for='data-143e7830-a2fe-4d5d-b3ae-15a5f2e913f1' title='Show/Hide data repr'><svg class='icon xr-icon-database'><use xlink:href='#icon-database'></use></svg></label><div class='xr-var-attrs'><dl class='xr-attrs'></dl></div><div class='xr-var-data'><pre>array([663.84607804, 587.95805115, 238.3556467 , 181.51432284,\n",
       "       167.1681824 , 141.3318286 , 120.47553715, 106.76516022,\n",
       "       101.73574629,  98.71546281,  98.01902283,  96.30933158,\n",
       "        96.03955244,  95.74781776,  95.26450151,  94.85351366,\n",
       "        94.32707666,  93.8808968 ,  93.65779125,  93.47534701,\n",
       "        92.96367472,  92.63384041,  92.38285196,  92.22399704,\n",
       "        92.18384325,  92.13689739,  92.0852301 ,  91.97996097,\n",
       "        91.91521932,  91.79266795,  91.74271824,  91.69517614,\n",
       "        91.65983282,  91.63220897,  91.57295856,  91.50547152,\n",
       "        91.83399376,  91.49226443,  91.44382828,  91.41860041,\n",
       "        91.39140321,  91.35943558,  91.35293929,  91.34572032,\n",
       "        91.33556697,  91.31482352,  91.30359919,  91.28058523,\n",
       "        91.27388323,  91.26670975,  91.25593981,  91.23632608,\n",
       "        91.27860804,  91.19758391, 201.88178001,  91.86556229,\n",
       "        91.19137729,  91.17104163,  91.15203959,  91.12831271,\n",
       "        91.12320191,  91.10783778,  91.09271364,  91.08808345,\n",
       "        91.07377235,  91.06816167,  91.06116263,  91.0543489 ,\n",
       "        91.05000275,  91.04642987,  91.04454851,  91.04295957,\n",
       "        91.03961038,  91.04132253,  91.02808567,  91.02713368,\n",
       "        92.01684561,  91.05316765,  91.02670353,  91.01764639,\n",
       "        91.59527178,  91.00235302,  90.99849999,  91.24829822,\n",
       "        90.99631204,  90.97679173,  90.96266875,  90.95667378,\n",
       "        90.95278714,  90.95047487,  90.94714837,  90.94659983,\n",
       "        90.94413885,  90.94336052,  90.93988386,  90.94413665,\n",
       "        90.93331561,  91.02926358,  90.93250444,  90.92855145,\n",
       "        90.92287625])</pre></div></li><li class='xr-var-item'><div class='xr-var-name'><span>design</span></div><div class='xr-var-dims'>(step, y, x)</div><div class='xr-var-dtype'>float64</div><div class='xr-var-preview xr-preview'>0.5284 0.5023 0.5235 ... 1.0 1.0</div><input id='attrs-6cb776cd-a7e7-4f81-8c8a-3b07cd7c3823' class='xr-var-attrs-in' type='checkbox' disabled><label for='attrs-6cb776cd-a7e7-4f81-8c8a-3b07cd7c3823' title='Show/Hide attributes'><svg class='icon xr-icon-file-text2'><use xlink:href='#icon-file-text2'></use></svg></label><input id='data-09375fb4-0e2e-4b5c-9f0d-e7eb839d6564' class='xr-var-data-in' type='checkbox'><label for='data-09375fb4-0e2e-4b5c-9f0d-e7eb839d6564' title='Show/Hide data repr'><svg class='icon xr-icon-database'><use xlink:href='#icon-database'></use></svg></label><div class='xr-var-attrs'><dl class='xr-attrs'></dl></div><div class='xr-var-data'><pre>array([[[5.28445768e-01, 5.02343509e-01, 5.23540721e-01, ...,\n",
       "         3.34676856e-01, 3.70845896e-01, 3.81001874e-01],\n",
       "        [4.18774200e-01, 3.85076024e-01, 4.11654786e-01, ...,\n",
       "         2.74949906e-01, 3.00561002e-01, 3.10864818e-01],\n",
       "        [3.10833309e-01, 2.61732272e-01, 2.86166629e-01, ...,\n",
       "         2.14880356e-01, 2.21652273e-01, 2.34725341e-01],\n",
       "        ...,\n",
       "        [7.67808527e-01, 7.54652571e-01, 7.08857182e-01, ...,\n",
       "         5.75468012e-01, 4.99977941e-01, 4.68111576e-01],\n",
       "        [7.21387486e-01, 7.10857370e-01, 6.64999292e-01, ...,\n",
       "         4.91038561e-01, 3.92141489e-01, 3.72231594e-01],\n",
       "        [6.87462412e-01, 6.78204819e-01, 6.29932171e-01, ...,\n",
       "         4.52253002e-01, 3.49647409e-01, 3.28814879e-01]],\n",
       "\n",
       "       [[9.62435975e-01, 9.63892636e-01, 9.61205029e-01, ...,\n",
       "         3.98160725e-01, 4.60526271e-01, 4.91181914e-01],\n",
       "        [9.62841172e-01, 9.64201558e-01, 9.64673352e-01, ...,\n",
       "         3.30637363e-01, 3.90204048e-01, 4.22830201e-01],\n",
       "        [9.63014623e-01, 9.62342054e-01, 9.65204053e-01, ...,\n",
       "         2.89536640e-01, 3.40646390e-01, 3.78932534e-01],\n",
       "...\n",
       "        [1.00000000e+00, 1.00000000e+00, 1.00000000e+00, ...,\n",
       "         1.00000000e+00, 1.00000000e+00, 1.00000000e+00],\n",
       "        [1.00000000e+00, 1.00000000e+00, 1.00000000e+00, ...,\n",
       "         1.00000000e+00, 1.00000000e+00, 1.00000000e+00],\n",
       "        [1.00000000e+00, 1.00000000e+00, 1.00000000e+00, ...,\n",
       "         1.00000000e+00, 1.00000000e+00, 1.00000000e+00]],\n",
       "\n",
       "       [[1.00000000e+00, 1.00000000e+00, 1.00000000e+00, ...,\n",
       "         0.00000000e+00, 1.20724178e-07, 3.24942328e-07],\n",
       "        [1.00000000e+00, 1.00000000e+00, 1.00000000e+00, ...,\n",
       "         0.00000000e+00, 5.23117922e-08, 1.20724178e-07],\n",
       "        [1.00000000e+00, 1.00000000e+00, 1.00000000e+00, ...,\n",
       "         0.00000000e+00, 0.00000000e+00, 0.00000000e+00],\n",
       "        ...,\n",
       "        [1.00000000e+00, 1.00000000e+00, 1.00000000e+00, ...,\n",
       "         1.00000000e+00, 1.00000000e+00, 1.00000000e+00],\n",
       "        [1.00000000e+00, 1.00000000e+00, 1.00000000e+00, ...,\n",
       "         1.00000000e+00, 1.00000000e+00, 1.00000000e+00],\n",
       "        [1.00000000e+00, 1.00000000e+00, 1.00000000e+00, ...,\n",
       "         1.00000000e+00, 1.00000000e+00, 1.00000000e+00]]])</pre></div></li></ul></div></li><li class='xr-section-item'><input id='section-bebe2e93-076b-48ff-be21-534dd77e101a' class='xr-section-summary-in' type='checkbox' disabled ><label for='section-bebe2e93-076b-48ff-be21-534dd77e101a' class='xr-section-summary'  title='Expand/collapse section'>Attributes: <span>(0)</span></label><div class='xr-section-inline-details'></div><div class='xr-section-details'><dl class='xr-attrs'></dl></div></li></ul></div></div>"
      ],
      "text/plain": [
       "<xarray.Dataset>\n",
       "Dimensions:  (step: 101, y: 32, x: 64)\n",
       "Coordinates:\n",
       "  * step     (step) int64 0 1 2 3 4 5 6 7 8 9 ... 91 92 93 94 95 96 97 98 99 100\n",
       "Dimensions without coordinates: y, x\n",
       "Data variables:\n",
       "    loss     (step) float64 663.8 588.0 238.4 181.5 ... 91.03 90.93 90.93 90.92\n",
       "    design   (step, y, x) float64 0.5284 0.5023 0.5235 0.5967 ... 1.0 1.0 1.0"
      ]
     },
     "execution_count": 20,
     "metadata": {},
     "output_type": "execute_result"
    }
   ],
   "source": [
    "ds_cnn4_mbb"
   ]
  },
  {
   "cell_type": "code",
   "execution_count": 21,
   "id": "ee42bff9",
   "metadata": {},
   "outputs": [],
   "source": [
    "class CNNSketch4(Model):\n",
    "\n",
    "  def __init__(\n",
    "      self,\n",
    "      seed=0,\n",
    "      args=None,\n",
    "      latent_size = 128,\n",
    "      dense_channels = 32,\n",
    "      latent_scale=1.0,\n",
    "      dense_init_scale=1.0,\n",
    "      activation = tf.nn.tanh\n",
    "  ):\n",
    "    super().__init__(seed, args)\n",
    "\n",
    "    activation = layers.Activation(activation)\n",
    "\n",
    "    h = self.env.args['nely'] // 4\n",
    "    w = self.env.args['nelx'] // 4\n",
    "    \n",
    "    net = inputs = layers.Input((latent_size,), batch_size=1)\n",
    "    filters = h * w * dense_channels   # 32 * h/4 * w/4\n",
    "    dense_initializer = tf.initializers.orthogonal(\n",
    "        dense_init_scale * np.sqrt(max(filters / latent_size, 1)))\n",
    "    net = layers.Dense(filters, kernel_initializer=dense_initializer)(net)\n",
    "    net = layers.Reshape([h, w, dense_channels])(net)  \n",
    "    \n",
    "    net = FlatConv3(net, 64, activation)  # 64 * h * w\n",
    "\n",
    "    net = UpConv4(net, 32, activation)  # 32 * h/2 * w/2\n",
    "    \n",
    "    net = UpConv4(net, 16, activation)  # 16 * h * w\n",
    "    \n",
    "    net = layers.Conv2D(1, 3, padding='same')(net)  # 1 * h * w\n",
    "    \n",
    "    outputs = tf.squeeze(net, axis=[-1])\n",
    "\n",
    "    self.core_model = tf.keras.Model(inputs=inputs, outputs=outputs)\n",
    "\n",
    "    latent_initializer = tf.initializers.RandomNormal(stddev=latent_scale)\n",
    "    self.z = self.add_weight(\n",
    "        shape=inputs.shape, initializer=latent_initializer, name='z')\n",
    "\n",
    "  def call(self, inputs=None):\n",
    "    return self.core_model(self.z)"
   ]
  },
  {
   "cell_type": "code",
   "execution_count": 22,
   "id": "307f0545",
   "metadata": {},
   "outputs": [
    {
     "name": "stdout",
     "output_type": "stream",
     "text": [
      "Ellapsed time of training: 12.69s\n"
     ]
    }
   ],
   "source": [
    "cnns4_mbb = CNNSketch4(args=args_mbb)\n",
    "tic = time.perf_counter()\n",
    "ds_cnns4_mbb = train.train_lbfgs(cnns4_mbb, 100)\n",
    "toc = time.perf_counter()\n",
    "print('Ellapsed time of training: %.2fs' % (toc-tic))"
   ]
  },
  {
   "cell_type": "code",
   "execution_count": 23,
   "id": "bebefe41",
   "metadata": {},
   "outputs": [
    {
     "data": {
      "text/plain": [
       "Text(0.5, 0, 'Optimization step')"
      ]
     },
     "execution_count": 23,
     "metadata": {},
     "output_type": "execute_result"
    },
    {
     "data": {
      "image/png": "[encoded data removed]",
      "text/plain": [
       "<Figure size 432x288 with 1 Axes>"
      ]
     },
     "metadata": {
      "needs_background": "light"
     },
     "output_type": "display_data"
    }
   ],
   "source": [
    "dims = pd.Index(['cnn_mbb', 'cnns_mbb'], name='model')\n",
    "ds =  xarray.concat([ds_cnn4_mbb, ds_cnns4_mbb], dim=dims)\n",
    "ds.loss.transpose().to_pandas().cummin().loc[:200].plot(linewidth=2)\n",
    "plt.ylabel('Compliance (loss)')\n",
    "plt.xlabel('Optimization step')"
   ]
  },
  {
   "cell_type": "markdown",
   "id": "12012f5d",
   "metadata": {},
   "source": [
    "With same building block, the depth of NN has influence on the optimized results. "
   ]
  },
  {
   "cell_type": "code",
   "execution_count": 24,
   "id": "9794db0a",
   "metadata": {},
   "outputs": [
    {
     "data": {
      "text/plain": [
       "Text(0.5, 1.0, 'cnns_mbb')"
      ]
     },
     "execution_count": 24,
     "metadata": {},
     "output_type": "execute_result"
    },
    {
     "data": {
      "image/png": "[encoded data removed]",
      "text/plain": [
       "<Figure size 576x432 with 2 Axes>"
      ]
     },
     "metadata": {},
     "output_type": "display_data"
    }
   ],
   "source": [
    "fig, ax = plt.subplots(1, 2, figsize=(8,6),subplot_kw={'xticks': [], 'yticks': []})\n",
    "ax[0].imshow(ds_cnn4_mbb.design.sel(step=100), cmap='Greys')\n",
    "ax[0].set_title('cnn_mbb')\n",
    "ax[1].imshow(ds_cnns4_mbb.design.sel(step=100), cmap='Greys')\n",
    "ax[1].set_title('cnns_mbb')"
   ]
  },
  {
   "cell_type": "markdown",
   "id": "e26ab1d1",
   "metadata": {},
   "source": [
    "## 5 CNN layer"
   ]
  },
  {
   "cell_type": "code",
   "execution_count": 25,
   "id": "d0816110",
   "metadata": {},
   "outputs": [
    {
     "name": "stdout",
     "output_type": "stream",
     "text": [
      "Ellapsed time of training: 14.69s\n"
     ]
    }
   ],
   "source": [
    "cnn5_mbb = CNNModel(args=args_mbb, resizes=(1, 2, 2, 2, 1), conv_filters=(128, 64, 32,16,1))\n",
    "tic = time.perf_counter()\n",
    "ds_cnn5_mbb = train.train_lbfgs(cnn5_mbb, 100)\n",
    "toc = time.perf_counter()\n",
    "print('Ellapsed time of training: %.2fs' % (toc-tic))"
   ]
  },
  {
   "cell_type": "code",
   "execution_count": 26,
   "id": "750c2ff0",
   "metadata": {},
   "outputs": [],
   "source": [
    "class CNNSketch5(Model):\n",
    "\n",
    "  def __init__(\n",
    "      self,\n",
    "      seed=0,\n",
    "      args=None,\n",
    "      latent_size = 128,\n",
    "      dense_channels = 32,\n",
    "      latent_scale=1.0,\n",
    "      dense_init_scale=1.0,\n",
    "      activation = tf.nn.tanh\n",
    "  ):\n",
    "    super().__init__(seed, args)\n",
    "\n",
    "    activation = layers.Activation(activation)\n",
    "\n",
    "    h = self.env.args['nely'] // 8\n",
    "    w = self.env.args['nelx'] // 8\n",
    "    \n",
    "    net = inputs = layers.Input((latent_size,), batch_size=1)\n",
    "    filters = h * w * dense_channels   # 32 * h/8 * w/8\n",
    "    dense_initializer = tf.initializers.orthogonal(\n",
    "        dense_init_scale * np.sqrt(max(filters / latent_size, 1)))\n",
    "    net = layers.Dense(filters, kernel_initializer=dense_initializer)(net)\n",
    "    net = layers.Reshape([h, w, dense_channels])(net)  \n",
    "    \n",
    "    net = FlatConv3(net, 128, activation)  # 128 * h/8 * w/8\n",
    "\n",
    "    net = UpConv4(net, 64, activation)  # 64 * h/4 * w/4\n",
    "    \n",
    "    net = UpConv4(net, 32, activation)  # 32 * h/2 * w/2\n",
    "    \n",
    "    net = UpConv4(net, 32, activation)  # 16 * h * w\n",
    "    \n",
    "    net = layers.Conv2D(1, 3, padding='same')(net)  # 1 * h * w\n",
    "#     net = tf.nn.sigmoid(net)  # no much difference in results with or without the sigmoid layer\n",
    "    \n",
    "    outputs = tf.squeeze(net, axis=[-1])\n",
    "\n",
    "    self.core_model = tf.keras.Model(inputs=inputs, outputs=outputs)\n",
    "\n",
    "    latent_initializer = tf.initializers.RandomNormal(stddev=latent_scale)\n",
    "    self.z = self.add_weight(\n",
    "        shape=inputs.shape, initializer=latent_initializer, name='z')\n",
    "\n",
    "  def call(self, inputs=None):\n",
    "    return self.core_model(self.z)"
   ]
  },
  {
   "cell_type": "code",
   "execution_count": 27,
   "id": "45caf51d",
   "metadata": {},
   "outputs": [
    {
     "name": "stdout",
     "output_type": "stream",
     "text": [
      "Ellapsed time of training: 10.80s\n"
     ]
    }
   ],
   "source": [
    "cnns5_mbb = CNNSketch5(args=args_mbb)\n",
    "tic = time.perf_counter()\n",
    "ds_cnns5_mbb = train.train_lbfgs(cnns5_mbb, 100)\n",
    "toc = time.perf_counter()\n",
    "print('Ellapsed time of training: %.2fs' % (toc-tic))"
   ]
  },
  {
   "cell_type": "code",
   "execution_count": 28,
   "id": "7c418ad6",
   "metadata": {},
   "outputs": [
    {
     "data": {
      "text/plain": [
       "Text(0.5, 0, 'Optimization step')"
      ]
     },
     "execution_count": 28,
     "metadata": {},
     "output_type": "execute_result"
    },
    {
     "data": {
      "image/png": "[encoded data removed]",
      "text/plain": [
       "<Figure size 432x288 with 1 Axes>"
      ]
     },
     "metadata": {
      "needs_background": "light"
     },
     "output_type": "display_data"
    }
   ],
   "source": [
    "dims = pd.Index(['cnn_mbb', 'cnns_mbb'], name='model')\n",
    "ds =  xarray.concat([ds_cnn4_mbb, ds_cnns4_mbb], dim=dims)\n",
    "ds.loss.transpose().to_pandas().cummin().loc[:200].plot(linewidth=2)\n",
    "plt.ylabel('Compliance (loss)')\n",
    "plt.xlabel('Optimization step')"
   ]
  },
  {
   "cell_type": "markdown",
   "id": "6d58fb83",
   "metadata": {},
   "source": [
    "Designs from CNN are often simpler than those from CNNSketch"
   ]
  },
  {
   "cell_type": "code",
   "execution_count": 29,
   "id": "fb2409aa",
   "metadata": {},
   "outputs": [
    {
     "data": {
      "text/plain": [
       "Text(0.5, 1.0, 'cnns_mbb')"
      ]
     },
     "execution_count": 29,
     "metadata": {},
     "output_type": "execute_result"
    },
    {
     "data": {
      "image/png": "[encoded data removed]",
      "text/plain": [
       "<Figure size 576x432 with 2 Axes>"
      ]
     },
     "metadata": {},
     "output_type": "display_data"
    }
   ],
   "source": [
    "fig, ax = plt.subplots(1, 2, figsize=(8,6),subplot_kw={'xticks': [], 'yticks': []})\n",
    "ax[0].imshow(ds_cnn5_mbb.design.sel(step=100), cmap='Greys')\n",
    "ax[0].set_title('cnn_mbb')\n",
    "ax[1].imshow(ds_cnns5_mbb.design.sel(step=100), cmap='Greys')\n",
    "ax[1].set_title('cnns_mbb')"
   ]
  },
  {
   "cell_type": "markdown",
   "id": "b5bd5e8b",
   "metadata": {},
   "source": [
    "## Try another problem"
   ]
  },
  {
   "cell_type": "code",
   "execution_count": 30,
   "id": "b120f846",
   "metadata": {},
   "outputs": [],
   "source": [
    "problem_asb = problems.PROBLEMS_BY_NAME[\"anchored_suspended_bridge_128x128_0.1\"]\n",
    "args_asb = topo_api.specified_task(problem_asb)"
   ]
  },
  {
   "cell_type": "code",
   "execution_count": 32,
   "id": "00b5310d",
   "metadata": {},
   "outputs": [],
   "source": [
    "cnn3_asb = CNNModel(args=args_asb, resizes=(1,2,1), conv_filters=(32,16,1))"
   ]
  },
  {
   "cell_type": "code",
   "execution_count": 33,
   "id": "954e3672",
   "metadata": {},
   "outputs": [
    {
     "name": "stdout",
     "output_type": "stream",
     "text": [
      "Ellapsed time of training: 317.86s\n"
     ]
    }
   ],
   "source": [
    "tic = time.perf_counter()\n",
    "ds_cnn3_asb = train.train_lbfgs(cnn3_asb, 100)\n",
    "toc = time.perf_counter()\n",
    "print('Ellapsed time of training: %.2fs' % (toc-tic))"
   ]
  },
  {
   "cell_type": "code",
   "execution_count": null,
   "id": "c2526ad1",
   "metadata": {},
   "outputs": [],
   "source": [
    "cnns3_asb= CNNSketch5(args=args_asb)\n",
    "tic = time.perf_counter()\n",
    "ds_cnns3_asb= train.train_lbfgs(cnns3_asb, 100)\n",
    "toc = time.perf_counter()\n",
    "print('Ellapsed time of training: %.2fs' % (toc-tic))"
   ]
  },
  {
   "cell_type": "code",
   "execution_count": null,
   "id": "3e3a6ac9",
   "metadata": {},
   "outputs": [],
   "source": [
    "fig, ax = plt.subplots(1, 1, figsize=(4,3),subplot_kw={'xticks': [], 'yticks': []})\n",
    "ax.imshow(ds_cnn1_asb.design.sel(step=100), cmap='Greys')"
   ]
  },
  {
   "cell_type": "markdown",
   "id": "339322c6",
   "metadata": {},
   "source": [
    "## Cantilever beam example"
   ]
  },
  {
   "cell_type": "code",
   "execution_count": 13,
   "id": "4c0b4eac",
   "metadata": {},
   "outputs": [],
   "source": [
    "problem_cb = problems.PROBLEMS_BY_NAME['cantilever_beam_two_point_64x48_0.4']\n",
    "args_cb = topo_api.specified_task(problem_cb)"
   ]
  },
  {
   "cell_type": "markdown",
   "id": "8d24706e",
   "metadata": {},
   "source": [
    "### 3 layer"
   ]
  },
  {
   "cell_type": "code",
   "execution_count": 14,
   "id": "55750c1c",
   "metadata": {},
   "outputs": [
    {
     "name": "stdout",
     "output_type": "stream",
     "text": [
      "Ellapsed time of training: 46.03s\n"
     ]
    }
   ],
   "source": [
    "cnn3_cb = CNNModel(args=args_cb, resizes=(1,2,1), conv_filters=(32,16,1))\n",
    "tic = time.perf_counter()\n",
    "ds_cnn3_cb = train.train_lbfgs(cnn3_cb, 100)\n",
    "toc = time.perf_counter()\n",
    "print('Ellapsed time of training: %.2fs' % (toc-tic))"
   ]
  },
  {
   "cell_type": "code",
   "execution_count": 21,
   "id": "0d690e22",
   "metadata": {},
   "outputs": [
    {
     "name": "stdout",
     "output_type": "stream",
     "text": [
      "Ellapsed time of training: 39.88s\n"
     ]
    }
   ],
   "source": [
    "cnns3_cb = CNNSketch3(args=args_cb)\n",
    "tic = time.perf_counter()\n",
    "ds_cnns3_cb = train.train_lbfgs(cnns3_cb, 100)\n",
    "toc = time.perf_counter()\n",
    "print('Ellapsed time of training: %.2fs' % (toc-tic))"
   ]
  },
  {
   "cell_type": "code",
   "execution_count": 22,
   "id": "a7ff84fd",
   "metadata": {},
   "outputs": [
    {
     "data": {
      "text/plain": [
       "<matplotlib.image.AxesImage at 0x7faa5c644400>"
      ]
     },
     "execution_count": 22,
     "metadata": {},
     "output_type": "execute_result"
    },
    {
     "data": {
      "image/png": "[encoded data removed]",
      "text/plain": [
       "<Figure size 576x432 with 2 Axes>"
      ]
     },
     "metadata": {},
     "output_type": "display_data"
    }
   ],
   "source": [
    "fig, ax = plt.subplots(1, 2, figsize=(8,6),subplot_kw={'xticks': [], 'yticks': []})\n",
    "ax[0].imshow(ds_cnn3_cb.design.sel(step=100), cmap='Greys')\n",
    "ax[1].imshow(ds_cnns3_cb.design.sel(step=100), cmap='Greys')"
   ]
  },
  {
   "cell_type": "code",
   "execution_count": 23,
   "id": "0ee67e0a",
   "metadata": {},
   "outputs": [
    {
     "data": {
      "text/plain": [
       "Text(0.5, 0, 'Optimization step')"
      ]
     },
     "execution_count": 23,
     "metadata": {},
     "output_type": "execute_result"
    },
    {
     "data": {
      "image/png": "[encoded data removed]",
      "text/plain": [
       "<Figure size 432x288 with 1 Axes>"
      ]
     },
     "metadata": {
      "needs_background": "light"
     },
     "output_type": "display_data"
    }
   ],
   "source": [
    "dims = pd.Index(['cnn_mbb', 'cnns_model'], name='model')\n",
    "ds =  xarray.concat([ds_cnn3_cb, ds_cnns3_cb], dim=dims)\n",
    "ds.loss.transpose().to_pandas().cummin().loc[:200].plot(linewidth=2)\n",
    "plt.ylabel('Compliance (loss)')\n",
    "plt.xlabel('Optimization step')"
   ]
  },
  {
   "cell_type": "markdown",
   "id": "ad2b1aa8",
   "metadata": {},
   "source": [
    "### 4 layer"
   ]
  },
  {
   "cell_type": "code",
   "execution_count": 24,
   "id": "7eb0af78",
   "metadata": {},
   "outputs": [
    {
     "name": "stdout",
     "output_type": "stream",
     "text": [
      "Ellapsed time of training: 23.12s\n"
     ]
    }
   ],
   "source": [
    "cnn4_cb = CNNModel(args=args_cb, resizes=(1,2,2,1), conv_filters=(64,32,16,1))\n",
    "tic = time.perf_counter()\n",
    "ds_cnn4_cb = train.train_lbfgs(cnn4_cb, 100)\n",
    "toc = time.perf_counter()\n",
    "print('Ellapsed time of training: %.2fs' % (toc-tic))"
   ]
  },
  {
   "cell_type": "code",
   "execution_count": 27,
   "id": "3d72cd42",
   "metadata": {},
   "outputs": [
    {
     "name": "stdout",
     "output_type": "stream",
     "text": [
      "Ellapsed time of training: 17.22s\n"
     ]
    }
   ],
   "source": [
    "cnns4_cb = CNNSketch4(args=args_cb)\n",
    "tic = time.perf_counter()\n",
    "ds_cnns4_cb = train.train_lbfgs(cnns4_cb, 100)\n",
    "toc = time.perf_counter()\n",
    "print('Ellapsed time of training: %.2fs' % (toc-tic))"
   ]
  },
  {
   "cell_type": "code",
   "execution_count": 28,
   "id": "5bd3520c",
   "metadata": {},
   "outputs": [
    {
     "data": {
      "text/plain": [
       "<matplotlib.image.AxesImage at 0x7faa5c099d30>"
      ]
     },
     "execution_count": 28,
     "metadata": {},
     "output_type": "execute_result"
    },
    {
     "data": {
      "image/png": "[encoded data removed]",
      "text/plain": [
       "<Figure size 576x432 with 2 Axes>"
      ]
     },
     "metadata": {},
     "output_type": "display_data"
    }
   ],
   "source": [
    "fig, ax = plt.subplots(1, 2, figsize=(8,6),subplot_kw={'xticks': [], 'yticks': []})\n",
    "ax[0].imshow(ds_cnn4_cb.design.sel(step=100), cmap='Greys')\n",
    "ax[1].imshow(ds_cnns4_cb.design.sel(step=100), cmap='Greys')"
   ]
  },
  {
   "cell_type": "code",
   "execution_count": 29,
   "id": "d23a600f",
   "metadata": {},
   "outputs": [
    {
     "data": {
      "text/plain": [
       "Text(0.5, 0, 'Optimization step')"
      ]
     },
     "execution_count": 29,
     "metadata": {},
     "output_type": "execute_result"
    },
    {
     "data": {
      "image/png": "[encoded data removed]",
      "text/plain": [
       "<Figure size 432x288 with 1 Axes>"
      ]
     },
     "metadata": {
      "needs_background": "light"
     },
     "output_type": "display_data"
    }
   ],
   "source": [
    "dims = pd.Index(['cnn_mbb', 'cnns_model'], name='model')\n",
    "ds =  xarray.concat([ds_cnn4_cb, ds_cnns4_cb], dim=dims)\n",
    "ds.loss.transpose().to_pandas().cummin().loc[:200].plot(linewidth=2)\n",
    "plt.ylabel('Compliance (loss)')\n",
    "plt.xlabel('Optimization step')"
   ]
  },
  {
   "cell_type": "code",
   "execution_count": null,
   "id": "afe9b293",
   "metadata": {},
   "outputs": [],
   "source": []
  }
 ],
 "metadata": {
  "kernelspec": {
   "display_name": "neural-struct-kernel",
   "language": "python",
   "name": "neural-struct-kernel"
  },
  "language_info": {
   "codemirror_mode": {
    "name": "ipython",
    "version": 3
   },
   "file_extension": ".py",
   "mimetype": "text/x-python",
   "name": "python",
   "nbconvert_exporter": "python",
   "pygments_lexer": "ipython3",
   "version": "3.9.6"
  }
 },
 "nbformat": 4,
 "nbformat_minor": 5
}
