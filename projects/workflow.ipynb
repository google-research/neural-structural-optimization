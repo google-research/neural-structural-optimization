{
 "cells": [
  {
   "cell_type": "markdown",
   "id": "b4697047",
   "metadata": {},
   "source": [
    "## Forward Workflow"
   ]
  },
  {
   "cell_type": "code",
   "execution_count": 147,
   "id": "5c7624f3",
   "metadata": {},
   "outputs": [
    {
     "name": "stdout",
     "output_type": "stream",
     "text": [
      "/home/shushu/install/anaconda3/envs/neural-struct/bin/python\n"
     ]
    },
    {
     "data": {
      "text/plain": [
       "<tensorflow.python.training.tracking.util.CheckpointLoadStatus at 0x7fd82dab5af0>"
      ]
     },
     "execution_count": 147,
     "metadata": {},
     "output_type": "execute_result"
    }
   ],
   "source": [
    "import sys\n",
    "import os\n",
    "neural_struct_dir = '/mnt/g/PythonWorkspace/neural-structural-optimization/'\n",
    "sys.path.insert(0, neural_struct_dir)\n",
    "# print(sys.executable)\n",
    "\n",
    "from neural_structural_optimization import problems\n",
    "from neural_structural_optimization import train\n",
    "from neural_structural_optimization import models\n",
    "from neural_structural_optimization import topo_api\n",
    "import numpy as np\n",
    "import matplotlib.pyplot as plt\n",
    "\n",
    "problem_mbb = problems.mbb_beam(width=64, height=32, density=0.5)\n",
    "args_mbb = topo_api.specified_task(problem_mbb)"
   ]
  },
  {
   "cell_type": "markdown",
   "id": "7712d909",
   "metadata": {},
   "source": [
    "args_mbb defines the physical task of interests."
   ]
  },
  {
   "cell_type": "code",
   "execution_count": 7,
   "id": "ac536342",
   "metadata": {},
   "outputs": [
    {
     "data": {
      "text/plain": [
       "{'young': 1,\n",
       " 'young_min': 1e-09,\n",
       " 'poisson': 0.3,\n",
       " 'g': 0,\n",
       " 'volfrac': 0.5,\n",
       " 'xmin': 0.001,\n",
       " 'xmax': 1.0,\n",
       " 'nelx': 64,\n",
       " 'nely': 32,\n",
       " 'mask': 1,\n",
       " 'freedofs': array([   1,    3,    5, ..., 4286, 4287, 4288]),\n",
       " 'fixdofs': array([   0,    2,    4,    6,    8,   10,   12,   14,   16,   18,   20,\n",
       "          22,   24,   26,   28,   30,   32,   34,   36,   38,   40,   42,\n",
       "          44,   46,   48,   50,   52,   54,   56,   58,   60,   62,   64,\n",
       "        4289]),\n",
       " 'forces': array([ 0., -1.,  0., ...,  0.,  0.,  0.]),\n",
       " 'penal': 3.0,\n",
       " 'filter_width': 2}"
      ]
     },
     "execution_count": 7,
     "metadata": {},
     "output_type": "execute_result"
    }
   ],
   "source": [
    "args_mbb"
   ]
  },
  {
   "cell_type": "markdown",
   "id": "08dd97b2",
   "metadata": {},
   "source": [
    "For better visulization, we demonstrated below a 8x4 mesh. A pixel is correspondent to an element in Finite Element Method. Each element has four nodes. And each node has two degree of freedoms (dof): one for displacement in x axis and the other for displacement in y axis. For example, dof1 means the displacement in y axis for node0 when using zero based numbering. The `fixdofs` in `args_mbb` means the corresponding node is pinned in that direction."
   ]
  },
  {
   "cell_type": "code",
   "execution_count": 79,
   "id": "e6e78b36",
   "metadata": {},
   "outputs": [
    {
     "data": {
      "image/png": "[encoded data removed]",
      "text/plain": [
       "<Figure size 432x288 with 1 Axes>"
      ]
     },
     "metadata": {},
     "output_type": "display_data"
    }
   ],
   "source": [
    "nelx = 8\n",
    "nely = 4\n",
    "nodes = np.zeros([(nely+1)*(nelx+1), 2])\n",
    "for i in range(nelx+1):\n",
    "    for j in range(nely+1):\n",
    "#         print('{}: {} {}'.format(i*nely+j, i, j))\n",
    "        nodes[i*(nely+1)+j] = [i, j]\n",
    "ely, elx = np.meshgrid(range(nely), range(nelx)) \n",
    "ely, elx = ely.reshape(-1, 1), elx.reshape(-1, 1)\n",
    "n1 = (nely+1)*(elx+0) + (ely+0)\n",
    "n2 = (nely+1)*(elx+1) + (ely+0)\n",
    "n3 = (nely+1)*(elx+1) + (ely+1)\n",
    "n4 = (nely+1)*(elx+0) + (ely+1)\n",
    "nelem = nelx*nely\n",
    "fig, ax = plt.subplots(subplot_kw={'xticks': [], 'yticks': []})\n",
    "for elem in range(nelem):\n",
    "    conn = [n1[elem], n2[elem], n3[elem], n4[elem],n1[elem]]\n",
    "    ax.plot(nodes[conn,0], nodes[conn,1], 'o-k', linewidth=2, markersize=8)"
   ]
  },
  {
   "cell_type": "markdown",
   "id": "263ca14d",
   "metadata": {},
   "source": [
    "In this problem, we want 50% of the grids can have material inside. And our goal is to decide the best way to put materials in order to obtain a resilient structure. Rather than optimizing densities on a grid, we instead optimized the parameters of a neural network which outputs those densities. More detailed information will be explained below."
   ]
  },
  {
   "cell_type": "code",
   "execution_count": 148,
   "id": "dfeb17e8",
   "metadata": {},
   "outputs": [
    {
     "data": {
      "text/plain": [
       "<tensorflow.python.training.tracking.util.CheckpointLoadStatus at 0x7fd80f66f4f0>"
      ]
     },
     "execution_count": 148,
     "metadata": {},
     "output_type": "execute_result"
    }
   ],
   "source": [
    "cnn3_mbb = models.CNNModel(args=args_mbb, resizes=(1,2,1), conv_filters=(32,16,1))\n",
    "# ds_cnn3_mbb = train.train_lbfgs(cnn3_mbb, 100)\n",
    "cur_file_dir = os.path.join(neural_struct_dir, 'projects')\n",
    "saved_dir = os.path.join(cur_file_dir, 'saved_models')\n",
    "cnn3_mbb.load_weights(os.path.join(saved_dir, 'cnn3_mbb100'))"
   ]
  },
  {
   "cell_type": "code",
   "execution_count": 2,
   "id": "fbb56dcc",
   "metadata": {},
   "outputs": [],
   "source": [
    "# cnn3_mbb.core_model.summary()"
   ]
  },
  {
   "cell_type": "markdown",
   "id": "962e8fa5",
   "metadata": {},
   "source": [
    "We use a CNN Model which has been trained for 100 steps to show the schema of the approach."
   ]
  },
  {
   "cell_type": "markdown",
   "id": "1d11f86a",
   "metadata": {},
   "source": [
    "The default setting in the code:\n",
    "- Input: 128 units\n",
    "- a dense layer into 32 image channels\n",
    "- 5 repetitions:\n",
    "    - tanh nonlinearity\n",
    "    - 2x bilinear resize (for the middle 3 layers)\n",
    "    - global normalization by subtracting the mean and dividing by the standard deviation\n",
    "    - a 2D convolution layer: The convolutional layers used 5x5 kernels and had 128,64,32,16,1 channels respectively.\n",
    "    - a learned bias over all elements/channels\n",
    "    \n",
    "Here we only use 3 convolutional layers for simplification. The visulization of of the model is shown here--[CNN Model with 3 conv layers](https://gitmind.cn/app/flowchart/0ef2447387)\n"
   ]
  },
  {
   "cell_type": "markdown",
   "id": "a9e6fdfc",
   "metadata": {},
   "source": [
    "### Generate logits of picture"
   ]
  },
  {
   "cell_type": "markdown",
   "id": "8ab74e89",
   "metadata": {},
   "source": [
    "Firstly, CNN Model generates a picture of the structure (shown below). Each grid has an original density $x_e$. They are referred to as design variables."
   ]
  },
  {
   "cell_type": "code",
   "execution_count": 117,
   "id": "29758193",
   "metadata": {},
   "outputs": [],
   "source": [
    "logits0 = cnn3_mbb(None)  # cnn3_mbb.core_model(cnn3_mbb.z)"
   ]
  },
  {
   "cell_type": "code",
   "execution_count": 118,
   "id": "f9f69d78",
   "metadata": {},
   "outputs": [],
   "source": [
    "logits = np.squeeze(logits0)"
   ]
  },
  {
   "cell_type": "code",
   "execution_count": 119,
   "id": "0bce0c8a",
   "metadata": {},
   "outputs": [
    {
     "data": {
      "text/plain": [
       "<matplotlib.image.AxesImage at 0x7fd82d2eec10>"
      ]
     },
     "execution_count": 119,
     "metadata": {},
     "output_type": "execute_result"
    },
    {
     "data": {
      "image/png": "[encoded data removed]",
      "text/plain": [
       "<Figure size 288x216 with 1 Axes>"
      ]
     },
     "metadata": {},
     "output_type": "display_data"
    }
   ],
   "source": [
    "fig, ax = plt.subplots(figsize=(4,3),subplot_kw={'xticks': [], 'yticks': []})\n",
    "ax.imshow(logits, cmap='Greys')"
   ]
  },
  {
   "cell_type": "markdown",
   "id": "3e556546",
   "metadata": {},
   "source": [
    "### Transfer picture logits to physical logits"
   ]
  },
  {
   "cell_type": "markdown",
   "id": "065123bd",
   "metadata": {},
   "source": [
    "The CNN Model does not consider volume contraints (only 50% of the grids have materials) when generating the picture. So afterwards we apply volume constraints on that picture. This is implemented in `topo_physics.physical_density`. It gives us a sharper picture. The filtered densities $\\tilde{x}_e$ are referred to as the physical densities. We always present the physical density field as the solution to the optimization problem.\n",
    "\n",
    "Actually, the `topo_physics.physical_density` function can apply two kinds of operation:\n",
    "- volume constraint\n",
    "- cone filter\n",
    "The meaning of volume constaint is straightforward. And what the cone filter does is calculating weighted average on the grid and its neighbors within a predefined radius. The further the neighboring grid locates, the smaller the weight factor is.\n",
    "\n",
    "They are both activated by default."
   ]
  },
  {
   "cell_type": "code",
   "execution_count": 93,
   "id": "56a44467",
   "metadata": {},
   "outputs": [],
   "source": [
    "from neural_structural_optimization import topo_physics"
   ]
  },
  {
   "cell_type": "code",
   "execution_count": 120,
   "id": "80ea50de",
   "metadata": {},
   "outputs": [],
   "source": [
    "env = cnn3_mbb.env\n",
    "args = env.args"
   ]
  },
  {
   "cell_type": "code",
   "execution_count": 95,
   "id": "3ba8641c",
   "metadata": {},
   "outputs": [],
   "source": [
    "phy_logits = topo_physics.physical_density(logits, env.args, volume_contraint=True, cone_filter = True)"
   ]
  },
  {
   "cell_type": "code",
   "execution_count": 96,
   "id": "3cc285ee",
   "metadata": {},
   "outputs": [
    {
     "data": {
      "text/plain": [
       "<matplotlib.image.AxesImage at 0x7fd82c063760>"
      ]
     },
     "execution_count": 96,
     "metadata": {},
     "output_type": "execute_result"
    },
    {
     "data": {
      "image/png": "[encoded data removed]",
      "text/plain": [
       "<Figure size 288x216 with 1 Axes>"
      ]
     },
     "metadata": {},
     "output_type": "display_data"
    }
   ],
   "source": [
    "fig, ax = plt.subplots(figsize=(4,3),subplot_kw={'xticks': [], 'yticks': []})\n",
    "ax.imshow(phy_logits, cmap='Greys')"
   ]
  },
  {
   "cell_type": "markdown",
   "id": "7755097b",
   "metadata": {},
   "source": [
    "#### 1. Apply volume constaint"
   ]
  },
  {
   "cell_type": "code",
   "execution_count": 125,
   "id": "60bc1188",
   "metadata": {},
   "outputs": [],
   "source": [
    "from neural_structural_optimization import autograd_lib\n",
    "mask = np.broadcast_to(args['mask'], logits.shape) > 0\n",
    "x_designed = topo_physics.sigmoid_with_constrained_mean(logits[mask], args['volfrac'])\n",
    "x_flat = autograd_lib.scatter1d(x_designed, np.flatnonzero(mask), logits.size)\n",
    "x = x_flat.reshape(logits.shape)"
   ]
  },
  {
   "cell_type": "code",
   "execution_count": 126,
   "id": "648f3110",
   "metadata": {},
   "outputs": [
    {
     "data": {
      "text/plain": [
       "<matplotlib.image.AxesImage at 0x7fd83c8f70d0>"
      ]
     },
     "execution_count": 126,
     "metadata": {},
     "output_type": "execute_result"
    },
    {
     "data": {
      "image/png": "[encoded data removed]",
      "text/plain": [
       "<Figure size 288x216 with 1 Axes>"
      ]
     },
     "metadata": {},
     "output_type": "display_data"
    }
   ],
   "source": [
    "fig, ax = plt.subplots(figsize=(4,3),subplot_kw={'xticks': [], 'yticks': []})\n",
    "ax.imshow(x, cmap='Greys')"
   ]
  },
  {
   "cell_type": "markdown",
   "id": "ad66fab2",
   "metadata": {},
   "source": [
    "#### 2. Apply cone filter"
   ]
  },
  {
   "cell_type": "code",
   "execution_count": 127,
   "id": "e00eb8f3",
   "metadata": {},
   "outputs": [
    {
     "data": {
      "text/plain": [
       "<matplotlib.image.AxesImage at 0x7fd83ce0d1f0>"
      ]
     },
     "execution_count": 127,
     "metadata": {},
     "output_type": "execute_result"
    },
    {
     "data": {
      "image/png": "[encoded data removed]",
      "text/plain": [
       "<Figure size 288x216 with 1 Axes>"
      ]
     },
     "metadata": {},
     "output_type": "display_data"
    }
   ],
   "source": [
    "x = autograd_lib.cone_filter(x, args['filter_width'], args['mask'])\n",
    "fig, ax = plt.subplots(figsize=(4,3),subplot_kw={'xticks': [], 'yticks': []})\n",
    "ax.imshow(phy_logits, cmap='Greys')"
   ]
  },
  {
   "cell_type": "code",
   "execution_count": 146,
   "id": "fea77031",
   "metadata": {},
   "outputs": [
    {
     "name": "stdout",
     "output_type": "stream",
     "text": [
      "[[0. 0. 0. 0. 0.]\n",
      " [0. 1. 0. 0. 0.]\n",
      " [0. 0. 0. 0. 0.]\n",
      " [0. 0. 0. 0. 0.]\n",
      " [0. 0. 0. 0. 0.]]\n",
      "[[0.03317615 0.15765048 0.02704855 0.         0.        ]\n",
      " [0.15765048 0.39030526 0.13010175 0.         0.        ]\n",
      " [0.02704855 0.13010175 0.02232193 0.         0.        ]\n",
      " [0.         0.         0.         0.         0.        ]\n",
      " [0.         0.         0.         0.         0.        ]]\n"
     ]
    }
   ],
   "source": [
    "a = np.zeros([5,5])\n",
    "a[1,1] = 1\n",
    "# a[2,2] = 20\n",
    "print(a)\n",
    "b = autograd_lib.cone_filter(a,1.5)\n",
    "print(b)"
   ]
  },
  {
   "cell_type": "markdown",
   "id": "585df274",
   "metadata": {},
   "source": [
    "### Loss function"
   ]
  },
  {
   "cell_type": "markdown",
   "id": "a918e021",
   "metadata": {},
   "source": [
    "With the physical density field, we can calcluate the displacement of the structure undergoing the given forces and displacement constraints with finite element method. Then the loss function is defined as the compliance of the structure(the inverse of stiffness)."
   ]
  },
  {
   "cell_type": "code",
   "execution_count": 149,
   "id": "bb1bd5ce",
   "metadata": {},
   "outputs": [
    {
     "data": {
      "text/plain": [
       "<tf.Tensor: shape=(), dtype=float64, numpy=86.02795359899591>"
      ]
     },
     "execution_count": 149,
     "metadata": {},
     "output_type": "execute_result"
    }
   ],
   "source": [
    "cnn3_mbb.loss(logits0)"
   ]
  },
  {
   "cell_type": "code",
   "execution_count": 99,
   "id": "9579c58d",
   "metadata": {},
   "outputs": [
    {
     "data": {
      "text/plain": [
       "86.0279477462498"
      ]
     },
     "execution_count": 99,
     "metadata": {},
     "output_type": "execute_result"
    }
   ],
   "source": [
    "topo_physics.objective(logits, env.ke, env.args, True, True)"
   ]
  },
  {
   "cell_type": "markdown",
   "id": "ccf20a04",
   "metadata": {},
   "source": [
    "#### 1. Calculate displacement"
   ]
  },
  {
   "cell_type": "code",
   "execution_count": 106,
   "id": "b647a72f",
   "metadata": {},
   "outputs": [
    {
     "name": "stdout",
     "output_type": "stream",
     "text": [
      "[  0.         -86.02794775   0.         ...  -2.31585346 -26.79066526\n",
      "   0.        ]\n"
     ]
    }
   ],
   "source": [
    "phy_logits = topo_physics.physical_density(logits, env.args, volume_contraint=True, cone_filter = True)\n",
    "args = env.args\n",
    "kwargs = dict(penal=args['penal'], e_min=args['young_min'], e_0=args['young'])\n",
    "forces = topo_physics.calculate_forces(phy_logits, args)\n",
    "u = topo_physics.displace(phy_logits, env.ke, forces, args['freedofs'], args['fixdofs'], **kwargs)\n",
    "print(u)"
   ]
  },
  {
   "cell_type": "markdown",
   "id": "9d54e901",
   "metadata": {},
   "source": [
    "#### 2. Calculate loss function (ie. compliance)"
   ]
  },
  {
   "cell_type": "code",
   "execution_count": 129,
   "id": "c2ca3e06",
   "metadata": {},
   "outputs": [
    {
     "data": {
      "text/plain": [
       "86.0279477462498"
      ]
     },
     "execution_count": 129,
     "metadata": {},
     "output_type": "execute_result"
    }
   ],
   "source": [
    "topo_physics.compliance(phy_logits, u, env.ke, **kwargs)"
   ]
  },
  {
   "cell_type": "markdown",
   "id": "c96c53ba",
   "metadata": {},
   "source": [
    "## Train CNN model"
   ]
  },
  {
   "cell_type": "code",
   "execution_count": 151,
   "id": "387a99e1",
   "metadata": {
    "scrolled": true
   },
   "outputs": [],
   "source": [
    "# model = cnn3_mbb\n",
    "# tvars = model.trainable_variables\n",
    "# latent_size = 128\n",
    "# filters = int(64/2*32/2*32)\n",
    "# print('#filters: ', filters)\n",
    "# print(tvars)"
   ]
  },
  {
   "cell_type": "markdown",
   "id": "f0b5d41b",
   "metadata": {},
   "source": [
    "### Backward propogation"
   ]
  },
  {
   "cell_type": "markdown",
   "id": "6e2b664b",
   "metadata": {},
   "source": [
    "The backward pass is computed via automatic differentiation. Below is the code snippet from `train` module."
   ]
  },
  {
   "cell_type": "code",
   "execution_count": 152,
   "id": "21b2bd15",
   "metadata": {},
   "outputs": [],
   "source": [
    "def value_and_grad(x):\n",
    "    _set_variables(tvars, x)\n",
    "    with tf.GradientTape() as t:\n",
    "      t.watch(tvars)\n",
    "      logits = model(None)\n",
    "      loss = model.loss(logits)\n",
    "    grads = t.gradient(loss, tvars)\n",
    "    frames.append(logits.numpy().copy())\n",
    "    losses.append(loss.numpy().copy())\n",
    "    return float(loss.numpy()), _get_variables(grads).astype(np.float64)"
   ]
  },
  {
   "cell_type": "code",
   "execution_count": null,
   "id": "94a40a15",
   "metadata": {},
   "outputs": [],
   "source": []
  }
 ],
 "metadata": {
  "kernelspec": {
   "display_name": "neural-struct-kernel",
   "language": "python",
   "name": "neural-struct-kernel"
  },
  "language_info": {
   "codemirror_mode": {
    "name": "ipython",
    "version": 3
   },
   "file_extension": ".py",
   "mimetype": "text/x-python",
   "name": "python",
   "nbconvert_exporter": "python",
   "pygments_lexer": "ipython3",
   "version": "3.9.6"
  }
 },
 "nbformat": 4,
 "nbformat_minor": 5
}
